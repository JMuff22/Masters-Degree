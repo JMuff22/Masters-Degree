{
 "cells": [
  {
   "cell_type": "code",
   "execution_count": 101,
   "metadata": {},
   "outputs": [
    {
     "name": "stdout",
     "output_type": "stream",
     "text": [
      "len MT = 1000000, len LCG = 1000000, len PM = 1000000, len QCG = 1000000\n"
     ]
    }
   ],
   "source": [
    "import numpy as np\n",
    "import matplotlib.pyplot as plt\n",
    "from scipy . stats import chi2\n",
    "\n",
    "MT = np.loadtxt('MT_arr.txt')\n",
    "LCG = np.loadtxt('lcg_arr.txt')\n",
    "PM = np.loadtxt('pm_arr.txt')\n",
    "QCG = np.loadtxt('qcg_arr.txt')\n",
    "\n",
    "\n",
    "print('len MT = %d, len LCG = %d, len PM = %d, len QCG = %d'%(len(MT), len(LCG), len(PM), len(QCG) ))\n",
    "\n"
   ]
  },
  {
   "cell_type": "code",
   "execution_count": 106,
   "metadata": {},
   "outputs": [
    {
     "name": "stdout",
     "output_type": "stream",
     "text": [
      "99 100\n",
      "[10411  9996  9992  9994  9995  9995  9996  9995  9994  9999  9999  9994\n",
      " 10001  9992  9997  9998  9993 10001  9994 10002  9998  9997  9994  9994\n",
      "  9992  9995  9992  9995  9992  9997  9999  9995  9993  9992  9994  9994\n",
      "  9996  9998  9999  9999 10001  9996  9996  9993  9995  9994  9995  9999\n",
      "  9995  9997  9996  9994  9995  9989  9993  9994  9998  9996  9995  9998\n",
      "  9994  9997  9995  9993  9994  9997  9998 10001 10000  9996 10003  9991\n",
      "  9996  9994  9993  9996  9996  9994  9999  9994  9997  9994  9991  9996\n",
      "  9992  9999  9995 10002  9998  9997  9997  9999  9995  9998  9997  9997\n",
      "  9996  9994  9996]\n"
     ]
    }
   ],
   "source": [
    "binsl = 100\n",
    "binsw = 1.0/100\n",
    "\n",
    "bins = np.empty(100)\n",
    "\n",
    "for i in range(100):\n",
    "    bins[i] = i*binsw\n",
    "\n",
    "hist_mt , bins_mt = np.histogram(MT ,bins)\n",
    "hist_lcg , bins_lcg = np.histogram(LCG ,bins)\n",
    "hist_pm , bins_pm = np.histogram(PM ,bins)\n",
    "hist_qcg , bins_qcg = np.histogram(QCG ,bins)\n",
    "\n",
    "print(len(hist_mt), len(bins_mt))\n",
    "print(hist_qcg)"
   ]
  },
  {
   "cell_type": "code",
   "execution_count": 97,
   "metadata": {},
   "outputs": [
    {
     "data": {
      "text/plain": [
       "Text(0.5, 1.0, 'QCG')"
      ]
     },
     "execution_count": 97,
     "metadata": {},
     "output_type": "execute_result"
    },
    {
     "data": {
      "image/png": "[encoded data removed]",
      "text/plain": [
       "<Figure size 1440x360 with 4 Axes>"
      ]
     },
     "metadata": {
      "needs_background": "light"
     },
     "output_type": "display_data"
    }
   ],
   "source": [
    "fig = plt.figure(figsize=(20,5))\n",
    "\n",
    "ax1 = fig.add_subplot(141)\n",
    "ax2 = fig.add_subplot(142)\n",
    "ax3 = fig.add_subplot(143)\n",
    "ax4 = fig.add_subplot(144)\n",
    "\n",
    "\n",
    "ax1.hist(MT, bins)\n",
    "ax1.set_title('MT')\n",
    "ax2.hist(LCG, bins)\n",
    "ax2.set_title('LCG')\n",
    "ax3.hist(PM, bins)\n",
    "ax3.set_title('PM')\n",
    "ax4.hist(QCG, bins)\n",
    "ax4.set_title('QCG')\n",
    "\n",
    "\n"
   ]
  },
  {
   "cell_type": "code",
   "execution_count": 111,
   "metadata": {},
   "outputs": [],
   "source": [
    "value_real = np.empty(99) #expected freqs in each bin for 1e6 points, 100 bins, uniform dist\n",
    "\n",
    "for i in range(99):\n",
    "    value_real[i] = len(MT)/binsl\n",
    "\n"
   ]
  },
  {
   "cell_type": "code",
   "execution_count": 70,
   "metadata": {},
   "outputs": [
    {
     "name": "stdout",
     "output_type": "stream",
     "text": [
      "chi ^2 for MT : 107.80805051541493\n",
      "chi ^2 for LCG : 0.7463776136121061\n",
      "chi ^2 for PM : 85.0099268167095\n",
      "chi ^2 for QCG : 16.46619551966649\n"
     ]
    }
   ],
   "source": [
    "chi2_mt = sum (( value_real - hist_mt )**2/ hist_mt )\n",
    "chi2_lcg = sum (( value_real - hist_lcg )**2/ hist_lcg )\n",
    "chi2_pm = sum (( value_real - hist_pm )**2/ hist_pm )\n",
    "chi2_qcg = sum (( value_real - hist_qcg )**2/ hist_qcg )\n",
    "\n",
    "print ('chi ^2 for MT :', chi2_mt )\n",
    "print ('chi ^2 for LCG :', chi2_lcg )\n",
    "print ('chi ^2 for PM :', chi2_pm )\n",
    "print ('chi ^2 for QCG :', chi2_qcg )"
   ]
  },
  {
   "cell_type": "code",
   "execution_count": 129,
   "metadata": {},
   "outputs": [
    {
     "name": "stdout",
     "output_type": "stream",
     "text": [
      "MT chi square: 107.808051\n",
      "LCG chi square: 0.746378\n",
      "PM chi square: 85.009927\n",
      "QCG chi square: 16.466196\n"
     ]
    },
    {
     "data": {
      "text/plain": [
       "Text(0.5, 1.0, 'QCG')"
      ]
     },
     "execution_count": 129,
     "metadata": {},
     "output_type": "execute_result"
    },
    {
     "data": {
      "image/png": "[encoded data removed]",
      "text/plain": [
       "<Figure size 1440x360 with 4 Axes>"
      ]
     },
     "metadata": {
      "needs_background": "light"
     },
     "output_type": "display_data"
    }
   ],
   "source": [
    "MT_chi2_arr = np.zeros(99)\n",
    "MT_chi2_sum =0\n",
    "for i in range(0,99):\n",
    "    MT_chisquare = (value_real[i]-hist_mt[i])**2 / (hist_mt[i])\n",
    "    MT_chi2_arr[i] = MT_chisquare\n",
    "    MT_chi2_sum += MT_chisquare\n",
    "    \n",
    "print('MT chi square: %f' %MT_chi2_sum)\n",
    "\n",
    "LCG_chi2_arr = np.zeros(99)\n",
    "LCG_chi2_sum =0\n",
    "for i in range(0,99):\n",
    "    LCG_chisquare = (value_real[i]-hist_lcg[i])**2 / (hist_lcg[i])\n",
    "    LCG_chi2_arr[i] = LCG_chisquare\n",
    "    LCG_chi2_sum += LCG_chisquare\n",
    "    \n",
    "print('LCG chi square: %f' %LCG_chi2_sum)\n",
    "\n",
    "PM_chi2_arr = np.zeros(99)\n",
    "PM_chi2_sum =0\n",
    "for i in range(0,99):\n",
    "    PM_chisquare = (value_real[i]-hist_pm[i])**2 / (hist_pm[i])\n",
    "    PM_chi2_arr[i] = PM_chisquare\n",
    "    PM_chi2_sum += PM_chisquare\n",
    "    \n",
    "print('PM chi square: %f' %PM_chi2_sum)\n",
    "\n",
    "QCG_chi2_arr = np.zeros(99)\n",
    "QCG_chi2_sum =0\n",
    "for i in range(0,99):\n",
    "    QCG_chisquare = (value_real[i]-hist_qcg[i])**2 / (hist_qcg[i])\n",
    "    QCG_chi2_arr[i] = QCG_chisquare\n",
    "    QCG_chi2_sum += QCG_chisquare\n",
    "    \n",
    "    \n",
    "print('QCG chi square: %f' %QCG_chi2_sum)\n",
    "\n",
    "\n",
    "fig = plt.figure(figsize=(20,5))\n",
    "\n",
    "ax1 = fig.add_subplot(141)\n",
    "ax2 = fig.add_subplot(142)\n",
    "ax3 = fig.add_subplot(143)\n",
    "ax4 = fig.add_subplot(144)\n",
    "\n",
    "counts, bins, patches = ax1.hist(MT_chi2_arr)\n",
    "counts, bins, patches = ax2.hist(LCG_chi2_arr)\n",
    "counts, bins, patches = ax3.hist(PM_chi2_arr)\n",
    "counts, bins, patches = ax4.hist(QCG_chi2_arr)\n",
    "ax1.set_title('MT')\n",
    "\n",
    "ax2.set_title('LCG')\n",
    "\n",
    "ax3.set_title('PM')\n",
    "\n",
    "ax4.set_title('QCG')\n"
   ]
  },
  {
   "cell_type": "code",
   "execution_count": null,
   "metadata": {},
   "outputs": [],
   "source": []
  }
 ],
 "metadata": {
  "kernelspec": {
   "display_name": "Python 3",
   "language": "python",
   "name": "python3"
  },
  "language_info": {
   "codemirror_mode": {
    "name": "ipython",
    "version": 3
   },
   "file_extension": ".py",
   "mimetype": "text/x-python",
   "name": "python",
   "nbconvert_exporter": "python",
   "pygments_lexer": "ipython3",
   "version": "3.7.6"
  }
 },
 "nbformat": 4,
 "nbformat_minor": 4
}
