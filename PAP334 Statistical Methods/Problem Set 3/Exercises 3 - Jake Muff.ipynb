{
 "cells": [
  {
   "cell_type": "markdown",
   "metadata": {},
   "source": [
    "# Question 1"
   ]
  },
  {
   "cell_type": "code",
   "execution_count": 178,
   "metadata": {},
   "outputs": [
    {
     "name": "stdout",
     "output_type": "stream",
     "text": [
      "Mean of this dist: 0.500986\n",
      "Variance of this dist: 0.083202\n",
      "--------------\n",
      "Normalize covariance Matrix:\n",
      "[[1.         0.00203874]\n",
      " [0.00203874 1.        ]]\n",
      "Correlation Coefficient: 0.002039\n"
     ]
    },
    {
     "data": {
      "image/png": "[encoded data removed]",
      "text/plain": [
       "<Figure size 432x288 with 1 Axes>"
      ]
     },
     "metadata": {
      "needs_background": "light"
     },
     "output_type": "display_data"
    }
   ],
   "source": [
    "import numpy as np\n",
    "import matplotlib.pyplot as plt\n",
    "from scipy.stats import pearsonr\n",
    "\n",
    "a =  40692 #from glen cowan\n",
    "m = 2147483399 #from glen cowan\n",
    "n = 50\n",
    "N= 100000\n",
    "\n",
    "r=[]\n",
    "i=0\n",
    "\n",
    "while i < N:\n",
    "    n = np.mod(a*n , m)\n",
    "    r.append(n/m)\n",
    "    i +=1\n",
    "\n",
    "count, bins, ignored = plt.hist(r, 100, density=True)\n",
    "plt.title('MLCM Distribution of random numbers between 0 and 1')\n",
    "\n",
    "print('Mean of this dist: %f'%np.mean(r))\n",
    "print('Variance of this dist: %f' %np.var(r))\n",
    "print('--------------')\n",
    "k=0\n",
    "a= []\n",
    "b= []\n",
    "while k < N-1:\n",
    "    #print(r[k],r[k+1])\n",
    "    #corr = (np.corrcoef(r[k],r[k+1]))\n",
    "    a.append(r[k])\n",
    "    b.append(r[k+1])\n",
    "    k+=1\n",
    "\n",
    "corr = np.corrcoef(a,b)\n",
    "print('Normalize covariance Matrix:')\n",
    "print(corr)\n",
    "corra, _ = pearsonr(a, b)\n",
    "print('Correlation Coefficient: %f' %corra)"
   ]
  },
  {
   "cell_type": "code",
   "execution_count": null,
   "metadata": {},
   "outputs": [],
   "source": []
  },
  {
   "cell_type": "markdown",
   "metadata": {},
   "source": [
    "1(i): I would not say the distribution is truly uniform but it is fairly close. Tests for uniformity could include the Kolmogorov-Smirnov test or Peasons's chi-squared test. The Kolomgorov-Smirvon test would be valid for small data samples to test for uniformity. The chi-squared test would be useful here and would measure the difference between this distribution and the true distribution or expected distribution. Any good test for the uniformity of random numbers would measure it against an ideal or expected distribution.  \n",
    "\n",
    "Can also use the moments or a moments test to test uniformity as for a uniform distribution these moments will have exact values which can be numerically compared to the nth moment of our dist. "
   ]
  },
  {
   "cell_type": "code",
   "execution_count": 179,
   "metadata": {},
   "outputs": [
    {
     "name": "stdout",
     "output_type": "stream",
     "text": [
      "Mean of this dist: 0.500643\n",
      "Variance of this dist: 0.082834\n"
     ]
    },
    {
     "data": {
      "image/png": "[encoded data removed]",
      "text/plain": [
       "<Figure size 432x288 with 1 Axes>"
      ]
     },
     "metadata": {
      "needs_background": "light"
     },
     "output_type": "display_data"
    }
   ],
   "source": [
    "import matplotlib.pyplot as plt\n",
    "\n",
    "N=10000\n",
    "s = np.random.uniform(0,1,N)\n",
    "count, bins, ignored = plt.hist(s,100,density=True)\n",
    "plt.plot(bins, np.ones_like(bins), linewidth=2, color='r')\n",
    "plt.title('Uniform Distribution of random numbers between 0 and 1')\n",
    "\n",
    "\n",
    "print('Mean of this dist: %f'%np.mean(s))\n",
    "print('Variance of this dist: %f' %np.var(s))\n"
   ]
  },
  {
   "cell_type": "markdown",
   "metadata": {},
   "source": [
    "The mean and variance of the MLCM random number is 0.500986 and 0.083202 compared with 0.500643 and 0.082834 the difference is really small. The correlation coefficient is calculated by parsing the array into 2 arrays shifted by one value and the correlation found between them as 0.002039 meaning there is close to no correlation between them. "
   ]
  },
  {
   "cell_type": "code",
   "execution_count": 127,
   "metadata": {},
   "outputs": [
    {
     "data": {
      "text/plain": [
       "[<matplotlib.lines.Line2D at 0x7fe70d2abe10>]"
      ]
     },
     "execution_count": 127,
     "metadata": {},
     "output_type": "execute_result"
    },
    {
     "data": {
      "image/png": "[encoded data removed]",
      "text/plain": [
       "<Figure size 432x288 with 1 Axes>"
      ]
     },
     "metadata": {
      "needs_background": "light"
     },
     "output_type": "display_data"
    }
   ],
   "source": [
    "import matplotlib.pyplot as plt\n",
    "import numpy as np\n",
    "\n",
    "a =  40692 #from glen cowan\n",
    "m = 2147483399 #from glen cowan\n",
    "n = 50\n",
    "N = 1000\n",
    "\n",
    "mu= 6\n",
    "sigma =1 # mean and standard deviation\n",
    "s = np.random.normal(mu, sigma, 1000)\n",
    "#print(s)\n",
    "\n",
    "r = []\n",
    "i1 = 0\n",
    "\n",
    "while i1 < N:\n",
    "    i2=0\n",
    "    r1=[]\n",
    "    while i2 < 12:\n",
    "        n = np.mod(a*n,m)\n",
    "        r1.append(n/m)\n",
    "        i2+=1\n",
    "    r.append(np.sum(r1))\n",
    "    i1+=1\n",
    "\n",
    "#count, bins, ignored = plt.hist(r, 100, density=True)\n",
    "plt.hist(r,bins=100, range=(0,12))\n",
    "plt.plot(bins,  120/(sigma * np.sqrt(2 * np.pi)) *\n",
    "               np.exp( - (bins - mu)**2 / (2 * sigma**2) ),\n",
    "         linewidth=2, color='r')\n"
   ]
  },
  {
   "cell_type": "markdown",
   "metadata": {},
   "source": [
    "The CLT does work in this case as the distribution tends towards a normal distribution when generating these random numbers. "
   ]
  },
  {
   "cell_type": "markdown",
   "metadata": {},
   "source": [
    "# Question 2"
   ]
  },
  {
   "cell_type": "markdown",
   "metadata": {},
   "source": [
    "To generate the Breit-Wigner Distribution using an inverse transform method we need to find the cumulative distribution function and then solve for E(r). To find the cumulative distribution we calculate the definite integral. "
   ]
  },
  {
   "cell_type": "code",
   "execution_count": 195,
   "metadata": {},
   "outputs": [
    {
     "data": {
      "text/latex": [
       "\\begin{eqnarray}\n",
       "r =  \\frac{\\Gamma_s (arctan(\\frac{2E-2E_s}{\\Gamma_s})+arctan(\\frac{2E_s}{\\Gamma_s})}{2 \\pi} \\\\\n",
       "E = \\frac{\\Gamma_s (tan(\\frac{2 \\pi r}{\\Gamma_s} - arctan(\\frac{2E_s}{\\Gamma_s})))}{2}+\\frac{E_s}{2}\n",
       "\\end{eqnarray}"
      ],
      "text/plain": [
       "<IPython.core.display.Latex object>"
      ]
     },
     "execution_count": 195,
     "metadata": {},
     "output_type": "execute_result"
    }
   ],
   "source": [
    "from IPython.display import Latex\n",
    "Latex(r\"\"\"\\begin{eqnarray}\n",
    "r =  \\frac{\\Gamma_s (arctan(\\frac{2E-2E_s}{\\Gamma_s})+arctan(\\frac{2E_s}{\\Gamma_s})}{2 \\pi} \\\\\n",
    "E = \\frac{\\Gamma_s (tan(\\frac{2 \\pi r}{\\Gamma_s} - arctan(\\frac{2E_s}{\\Gamma_s})))}{2}+\\frac{E_s}{2}\n",
    "\\end{eqnarray}\"\"\")"
   ]
  },
  {
   "cell_type": "markdown",
   "metadata": {},
   "source": [
    "E is then used in the inverse function"
   ]
  },
  {
   "cell_type": "code",
   "execution_count": 194,
   "metadata": {},
   "outputs": [
    {
     "name": "stdout",
     "output_type": "stream",
     "text": [
      "A = 6.047039343046551\n",
      "mu = 24.994531101457703\n",
      "var =  2.7143652667513343\n"
     ]
    },
    {
     "data": {
      "image/png": "[encoded data removed]",
      "text/plain": [
       "<Figure size 432x288 with 1 Axes>"
      ]
     },
     "metadata": {
      "needs_background": "light"
     },
     "output_type": "display_data"
    }
   ],
   "source": [
    "import matplotlib.pyplot as plt\n",
    "import numpy as np\n",
    "import scipy.optimize \n",
    "\n",
    "def breit_wigner(E,E_s, gamma_s):\n",
    "    return gamma_s**2 / ((E-E_s)**2 + (gamma_s /2)**2)\n",
    "\n",
    "def inverse(r, E_s,gamma_s):\n",
    "    return E_s + gamma_s /2 * (np.tan((2*np.pi*r/gamma_s) - np.arctan(2*E_s / gamma_s))) \n",
    "\n",
    "def gauss(x,A,mu,sigma):\n",
    "    return A * np.exp(-(x-mu)**2 / (2.*sigma**2))\n",
    "\n",
    "\n",
    "E_max=50\n",
    "E_s = 25\n",
    "gamma_s = 5\n",
    "N=1000\n",
    "r = np.random.rand(1000000)*E_max #random numbers\n",
    "E = np.linspace(0,E_max, N)\n",
    "BW = breit_wigner(E,E_s, gamma_s) #breit wigner dist\n",
    "\n",
    "fig = plt.figure()\n",
    "ax = fig.add_subplot()\n",
    "\n",
    "ax.plot(E/E_max, BW*2, label=\"BW dist\")\n",
    "\n",
    "BW_E = inverse(r,E_s,gamma_s)\n",
    "#print(BW_E)\n",
    "BW_E2 = BW_E[np.logical_and(BW_E>0, BW_E < 50)] #disregarding\n",
    "#print(BW_E2)\n",
    "#print(len(BW_E2), len(BW_E))\n",
    "\n",
    "count, bins, patches = ax.hist(BW_E2/E_max, bins=100, density=True, label=\"BW rand val\")\n",
    "#count, bins, patches = ax.hist(BW_E/E_max, bins=100, density=True, range=[0,50], label=\"BW rand val\")\n",
    "\n",
    "bin_centers = (bins[:-1] + bins[1:])/2\n",
    "\n",
    "popt, pcov = scipy.optimize.curve_fit(gauss, bin_centers, count)\n",
    "print('A =', popt[0])\n",
    "print('mu =', popt[1]*E_max)\n",
    "print('std dev = ', np.abs(popt[2]) * E_max)\n",
    "\n",
    "x = np.linspace(0,1,1000)\n",
    "\n",
    "plt.plot(x,gauss(x,*popt), label=\"Gaussian dist\")\n",
    "\n",
    "ax.legend()\n",
    "\n",
    "plt.show()\n",
    "\n"
   ]
  },
  {
   "cell_type": "markdown",
   "metadata": {},
   "source": [
    "The original E_s is very close to the mu calculated in the gaussian distribution. However, the Std dev is about half of the original gamma_s which is acocunted for is the width of the base of the dist"
   ]
  },
  {
   "cell_type": "code",
   "execution_count": null,
   "metadata": {},
   "outputs": [],
   "source": []
  },
  {
   "cell_type": "code",
   "execution_count": null,
   "metadata": {},
   "outputs": [],
   "source": []
  }
 ],
 "metadata": {
  "kernelspec": {
   "display_name": "Python 3",
   "language": "python",
   "name": "python3"
  },
  "language_info": {
   "codemirror_mode": {
    "name": "ipython",
    "version": 3
   },
   "file_extension": ".py",
   "mimetype": "text/x-python",
   "name": "python",
   "nbconvert_exporter": "python",
   "pygments_lexer": "ipython3",
   "version": "3.7.6"
  }
 },
 "nbformat": 4,
 "nbformat_minor": 4
}
