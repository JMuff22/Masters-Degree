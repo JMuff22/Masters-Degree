{
 "cells": [
  {
   "cell_type": "markdown",
   "metadata": {},
   "source": [
    "# Estimating the Volume of a Sphere using MC techniques"
   ]
  },
  {
   "cell_type": "markdown",
   "metadata": {},
   "source": [
    "To estimate the volume of a sphere I employed the fairly standard hit or miss practice using MC integration. I generated $1 \\times 10^7$ Monte Carlo Samples using $np.random.uniform$ from -1 to 1. In the simulation I created a sphere with radius 1 and a cube with side of length 2. Because the points inside the cube were random they had a chance to be in the sphere or not. To count the number of points inside the sphere I found the sum of the distance from the origin and counted them. This is then compared to the total number of points as a fraction. The fraction inside multiplied by the volume of the cube will equal the volume of the sphere. \n",
    "\n",
    "\n"
   ]
  },
  {
   "cell_type": "markdown",
   "metadata": {},
   "source": [
    "To calculate pi is simply done by rearranging the formula for the volume of a sphere and solving for pi"
   ]
  },
  {
   "cell_type": "markdown",
   "metadata": {},
   "source": [
    "However, to calculate the uncertainties I ran the monte carlo simulation 200 times and found the average. From this I used the known formula of the standard error to find the error in the mean \n",
    "$$ S_E = \\frac{\\sigma}{\\sqrt{n_{sims}}} $$"
   ]
  },
  {
   "cell_type": "code",
   "execution_count": 18,
   "metadata": {},
   "outputs": [
    {
     "name": "stdout",
     "output_type": "stream",
     "text": [
      "N=10000000\tN_in=5235829\tV=4.18866\n",
      "True value vol_sphere =4.18879\n",
      "Difference = 0.00013\n",
      "percentage diff = 0.000030 percent\n",
      "-------\n",
      "True pi val: 3.141593\n",
      "Est Pi: 3.141497\n"
     ]
    }
   ],
   "source": [
    "import numpy as np\n",
    "import matplotlib.pyplot as plt\n",
    "from scipy import random\n",
    "import scipy.special\n",
    "\n",
    "\n",
    "N = int(1e7) # Monte Carlo samples\n",
    "R=1\n",
    "\n",
    "all = np.random.uniform(-1,1, 3*N).reshape(N,3)\n",
    "distance = np.sum(all**2,axis=1)**0.5\n",
    "\n",
    "Ninside = np.sum(distance<=1) # number of points in sphere\n",
    "fractioninside = Ninside/N # fraction of points in sphere\n",
    "vol_cube = 2**3 # Volume of cube\n",
    "vol_sphere = fractioninside * cube # Volume of sphere\n",
    "\n",
    "solution = 4./3. * np.pi*R**3 #true volume using pi\n",
    "diff= np.abs(vol_sphere-solution)/solution # Error\n",
    "\n",
    "print(\"N=%i\\tN_in=%06d\\tV=%.5f\" %(N,Ninside,vol_sphere))\n",
    "print(\"True value vol_sphere =%.5f\" %solution)\n",
    "print(\"Difference = %.5f\" %(np.abs(solution-vol_sphere)))\n",
    "print(\"percentage diff = %f percent\" %diff)\n",
    "\n",
    "pi_est = (vol_sphere*3)/(4*(R**3))\n",
    "\n",
    "print(\"-------\")\n",
    "print(\"True pi val: %f\" %(np.pi))\n",
    "print(\"Est Pi: %f\" %(pi_est))\n"
   ]
  },
  {
   "cell_type": "code",
   "execution_count": 33,
   "metadata": {},
   "outputs": [
    {
     "name": "stdout",
     "output_type": "stream",
     "text": [
      "0 0.634119987487793\n",
      "20 0.6301989555358887\n",
      "40 0.6240849494934082\n",
      "60 0.6158668994903564\n",
      "80 0.6180229187011719\n",
      "100 0.6163930892944336\n",
      "120 0.6282470226287842\n",
      "140 0.6265480518341064\n",
      "160 0.6127808094024658\n",
      "180 0.6191859245300293\n",
      "Total time of sim = 124.454432\n"
     ]
    }
   ],
   "source": [
    "n_sims=200\n",
    "import time\n",
    "\n",
    "times=np.zeros(n_sims)\n",
    "vol_list = np.zeros(n_sims)\n",
    "pi_est_list = np.zeros(n_sims)\n",
    "for i in range(0,n_sims):\n",
    "    t0=time.time()\n",
    "    N = int(1e7) # Monte Carlo samples\n",
    "    R=1\n",
    "\n",
    "    all = np.random.uniform(-1,1, 3*N).reshape(N,3)\n",
    "    distance = np.sum(all**2,axis=1)**0.5\n",
    "\n",
    "    Ninside = np.sum(distance<=1) # number of points in sphere\n",
    "    fractioninside = Ninside/N # fraction of points in sphere\n",
    "    vol_cube = 2**3 # Volume of cube\n",
    "    vol_sphere = fractioninside * cube # Volume of sphere\n",
    "    pi_est_list[i] = (vol_sphere*3)/(4*(R**3))\n",
    "    vol_list[i] = vol_sphere\n",
    "    t=time.time()-t0\n",
    "    times[i]=t\n",
    "    if np.mod(i,20)==0: #keep track of sim\n",
    "        print(i,t)\n",
    "\n",
    "\n",
    "print(\"Total time of sim = %f\" %(np.sum(times)))"
   ]
  },
  {
   "cell_type": "code",
   "execution_count": 30,
   "metadata": {},
   "outputs": [
    {
     "name": "stdout",
     "output_type": "stream",
     "text": [
      "Volume of Sphere estimate: 4.18875 +- 0.00009\n",
      "Pi Estimate: 3.14156 +- 0.00007\n"
     ]
    }
   ],
   "source": [
    "std_vol = np.std(vol_list)\n",
    "pf_vol = np.mean(vol_list)\n",
    "stdError_vol = std_vol/np.sqrt(n_sims)\n",
    "\n",
    "std_pi = np.std(pi_est_list)\n",
    "pf_pi = np.mean(pi_est_list)\n",
    "stdError_pi = std_pi/np.sqrt(n_sims)\n",
    "\n",
    "\n",
    "\n",
    "print(\"Volume of 3D Sphere estimate: %.5f +- %.5f\" %(pf_vol, stdError_vol))\n",
    "print(\"Pi Estimate: %.5f +- %.5f\" %(pf_pi, stdError_pi))"
   ]
  },
  {
   "cell_type": "code",
   "execution_count": null,
   "metadata": {},
   "outputs": [],
   "source": []
  }
 ],
 "metadata": {
  "kernelspec": {
   "display_name": "Python 3",
   "language": "python",
   "name": "python3"
  },
  "language_info": {
   "codemirror_mode": {
    "name": "ipython",
    "version": 3
   },
   "file_extension": ".py",
   "mimetype": "text/x-python",
   "name": "python",
   "nbconvert_exporter": "python",
   "pygments_lexer": "ipython3",
   "version": "3.7.6"
  }
 },
 "nbformat": 4,
 "nbformat_minor": 4
}
