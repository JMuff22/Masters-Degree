{
 "cells": [
  {
   "cell_type": "code",
   "execution_count": 4,
   "metadata": {},
   "outputs": [],
   "source": [
    "# Standard data science\n",
    "import pandas as pd\n",
    "import numpy as np\n",
    "\n",
    "np.random.seed(42)\n",
    "\n",
    "# Display all cell outputs\n",
    "from IPython.core.interactiveshell import InteractiveShell\n",
    "InteractiveShell.ast_node_interactivity = 'all'\n",
    "\n",
    "\n",
    "\n",
    "\n",
    "from scipy.special import factorial\n"
   ]
  },
  {
   "cell_type": "code",
   "execution_count": 7,
   "metadata": {},
   "outputs": [
    {
     "name": "stdout",
     "output_type": "stream",
     "text": [
      "The probability of 0 meteors in 30 minutes is 4.98%.\n"
     ]
    }
   ],
   "source": [
    "events_per_minute = 1/10\n",
    "minutes = 30\n",
    "\n",
    "# Expected events\n",
    "lam = events_per_minute * minutes\n",
    "\n",
    "k = 0\n",
    "p_k = np.exp(-lam) * np.power(lam, k) / factorial(k)\n",
    "print(f'The probability of {k} meteors in {minutes} minutes is {100*p_k:.2f}%.')"
   ]
  },
  {
   "cell_type": "code",
   "execution_count": 9,
   "metadata": {},
   "outputs": [
    {
     "data": {
      "text/plain": [
       "0.0502"
      ]
     },
     "execution_count": 9,
     "metadata": {},
     "output_type": "execute_result"
    }
   ],
   "source": [
    "x = np.random.poisson(lam, 10000)\n",
    "(x == 0).mean()"
   ]
  },
  {
   "cell_type": "code",
   "execution_count": 21,
   "metadata": {},
   "outputs": [
    {
     "data": {
      "text/plain": [
       "0.049787068367863944"
      ]
     },
     "execution_count": 21,
     "metadata": {},
     "output_type": "execute_result"
    },
    {
     "data": {
      "text/plain": [
       "0.36787944117144233"
      ]
     },
     "execution_count": 21,
     "metadata": {},
     "output_type": "execute_result"
    }
   ],
   "source": [
    "def calc_prob(events_per_minute, minutes, k):\n",
    "    # Calculate probability of k events in specified number of minutes\n",
    "    lam = events_per_minute * minutes\n",
    "    return np.exp(-lam) * np.power(lam, k) / factorial(k)\n",
    "    \n",
    "calc_prob(events_per_minute, minutes, 0)\n",
    "calc_prob(events_per_minute, 10, 1)"
   ]
  },
  {
   "cell_type": "code",
   "execution_count": 11,
   "metadata": {},
   "outputs": [
    {
     "name": "stdout",
     "output_type": "stream",
     "text": [
      "The most likely value is 2 with probability 0.2240\n"
     ]
    }
   ],
   "source": [
    "# Different numbers\n",
    "ns = np.arange(12)\n",
    "p_n = calc_prob(events_per_minute, minutes, ns)\n",
    "\n",
    "print(f'The most likely value is {np.argmax(p_n)} with probability {np.max(p_n):.4f}')"
   ]
  },
  {
   "cell_type": "code",
   "execution_count": 17,
   "metadata": {},
   "outputs": [
    {
     "name": "stdout",
     "output_type": "stream",
     "text": [
      "6 Meteors Per Hour. Probability of 10 or fewer meteors in 30 mins: 99.97%.\n"
     ]
    }
   ],
   "source": [
    "def pr_less_than_or_equal(events_per_minute, minutes, n_query, quiet=False):\n",
    "    p_n = calc_prob(events_per_minute, minutes, np.arange(100))\n",
    "    p = p_n[:n_query+1].sum() / p_n.sum()\n",
    "    if not quiet:\n",
    "        print(f'{int(events_per_minute*60)} Meteors Per Hour. Probability of {n_query} or fewer meteors in {int(minutes)} mins: {100*p:.2f}%.')\n",
    "    return p\n",
    "\n",
    "def pr_greater_than(events_per_minute, minutes, n_query, quiet=False):\n",
    "    p = 1 - pr_less_than_or_equal(events_per_minute, minutes, n_query)\n",
    "    if not quiet:\n",
    "        print(f'{int(events_per_minute*60)} Meteors Per Hour. Probability of more than {n_query} meteors in {int(minutes)} mins: {100*p:.2f}%.')\n",
    "    return p\n",
    "\n",
    "assert pr_less_than_or_equal(events_per_minute, minutes, 10, True) + pr_greater_than(events_per_minute, minutes, 10, True) == 1"
   ]
  },
  {
   "cell_type": "code",
   "execution_count": 20,
   "metadata": {},
   "outputs": [
    {
     "name": "stdout",
     "output_type": "stream",
     "text": [
      "6 Meteors Per Hour. Probability of 1 or fewer meteors in 10 mins: 73.58%.\n",
      "6 Meteors Per Hour. Probability of more than 1 meteors in 10 mins: 26.42%.\n"
     ]
    }
   ],
   "source": [
    "_ = pr_greater_than(events_per_minute=1/10, minutes=10, n_query=1)\n"
   ]
  },
  {
   "cell_type": "code",
   "execution_count": 22,
   "metadata": {},
   "outputs": [
    {
     "name": "stdout",
     "output_type": "stream",
     "text": [
      "[ 0  1  2  3  4  5  6  7  8  9 10 11 12 13 14 15 16 17 18 19 20 21 22 23\n",
      " 24 25 26 27 28 29 30 31 32 33 34 35 36 37 38 39 40 41 42 43 44 45 46 47\n",
      " 48 49 50 51 52 53 54 55 56 57 58 59 60 61 62 63 64 65 66 67 68 69 70 71\n",
      " 72 73 74 75 76 77 78 79 80 81 82 83 84 85 86 87 88 89 90 91 92 93 94 95\n",
      " 96 97 98 99]\n"
     ]
    }
   ],
   "source": [
    "print(np.arange(100))"
   ]
  },
  {
   "cell_type": "code",
   "execution_count": null,
   "metadata": {},
   "outputs": [],
   "source": []
  }
 ],
 "metadata": {
  "kernelspec": {
   "display_name": "Python 3",
   "language": "python",
   "name": "python3"
  },
  "language_info": {
   "codemirror_mode": {
    "name": "ipython",
    "version": 3
   },
   "file_extension": ".py",
   "mimetype": "text/x-python",
   "name": "python",
   "nbconvert_exporter": "python",
   "pygments_lexer": "ipython3",
   "version": "3.7.6"
  }
 },
 "nbformat": 4,
 "nbformat_minor": 4
}
