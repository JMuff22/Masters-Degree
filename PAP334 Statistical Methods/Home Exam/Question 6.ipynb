{
 "cells": [
  {
   "cell_type": "code",
   "execution_count": 112,
   "metadata": {},
   "outputs": [
    {
     "name": "stdout",
     "output_type": "stream",
     "text": [
      "[13 13 13 13 13 13 13 13 13 13 13 13]\n",
      "part a:\n",
      "Fitted Params (LS Estimators) +- Std Dev \n",
      "a 0  0.27145862586793734 +- 0.009737076489754953\n",
      "a 1  302.01542761638 +- 7.568450338335332\n",
      "\n",
      "Variance in LS Estimators up to order: 3\n",
      "a 0  variance 9.481065856733862e-05\n",
      "a 1  variance 57.28144052384819\n",
      "\n",
      "Chi square number and degrees of freedom\n",
      "chi2 =  70.61661286173101 , ndof =  11\n",
      "---------\n",
      "part b:\n",
      "Fitted Params (LS Estimators) +- Std Dev \n",
      "a 0  0.2714586237694187 +- 0.010245094572805865\n",
      "a 1  586.5489292571231 +- 598678142.7624638\n",
      "a 2  258.7927526746255 +- 44116461.26584788\n",
      "\n",
      "Variance in LS Estimators up to order: 3\n",
      "a 0  variance 0.00010496196280573619\n",
      "a 1  variance 3.5841551862151296e+17\n",
      "a 2  variance 1946262154621056.0\n",
      "\n",
      "Chi square number and degrees of freedom\n",
      "chi2 =  1.71989268839444e+16 , ndof =  10\n",
      "-----\n",
      "part c:\n",
      "Fitted Params (LS Estimators) +- Std Dev \n",
      "a 0  0.07368978481496058 +- 0.005286426729244799\n",
      "a 1  302.0154282642992 +- 7.568450262745844\n",
      "\n",
      "Variance in LS Estimators up to order: 3\n",
      "a 0  variance 2.794630756367387e-05\n",
      "a 1  variance 57.281439379657634\n",
      "\n",
      "Chi square number and degrees of freedom\n",
      "chi2 =  3175.670604048439 , ndof =  10\n",
      "-----\n"
     ]
    },
    {
     "name": "stderr",
     "output_type": "stream",
     "text": [
      "/usr/local/anaconda3/lib/python3.7/site-packages/ipykernel_launcher.py:14: RuntimeWarning: invalid value encountered in sqrt\n",
      "  \n"
     ]
    },
    {
     "name": "stdout",
     "output_type": "stream",
     "text": [
      "pseudo - experiments' results :\n",
      "al1 = 0.6130653266331658 +0.6080402010050251 -0.6130653266331658 (+ -0.0025125628140703626) \n",
      "al2 = 300.0 +300.0 -318.5929648241206 (+ -9.2964824120603) \n"
     ]
    }
   ],
   "source": [
    "import numpy as np\n",
    "import matplotlib.pyplot as plt\n",
    "from scipy.optimize import curve_fit\n",
    "\n",
    "def func1(a,h,b):\n",
    "    d = a * h + b\n",
    "    return d\n",
    "\n",
    "def func2(a,h,b,c):\n",
    "    d = a * h + b*h**2 + c\n",
    "    return d\n",
    "\n",
    "def func3(a, h,b):\n",
    "    d = a * np.sqrt(h) + b\n",
    "    return d\n",
    "\n",
    "numParams_1=2\n",
    "numParams_2 =3\n",
    "h = np.array([100, 500, 900, 200, 600, 1000, 300, 700, 1200, 400, 800, 1400])\n",
    "d = np.array([253, 469, 557, 337, 495, 573, 395, 520, 609, 438, 534, 643])\n",
    "d_unc = [13., 13., 13., 13., 13., 13., 13., 13., 13., 13., 13., 13.]\n",
    "h_unc = [4., 4., 4., 4., 4., 4., 4., 4., 4., 4., 4., 4.]\n",
    "x0_1 = np.array(numParams_1*[1.0])\n",
    "x0_2 = np.array(numParams_2*[1.0])\n",
    "if len(h) != len(d):\n",
    "    print('err')\n",
    "\n",
    "sigma_h = 0\n",
    "sigma_d = np.array(len(d)*[13])\n",
    "print(sigma_d)\n",
    "a_1, cov_a_1 = curve_fit(func1, h, d, x0_1, sigma_d, absolute_sigma=True)\n",
    "a_2, cov_a_2 = curve_fit(func2, h, d, x0_2, sigma_d, absolute_sigma=True)\n",
    "a_3, cov_a_3 = curve_fit(func3, h, d, x0_1, sigma_d, absolute_sigma=True)\n",
    "\n",
    "\n",
    "ndof_1 = len(h) - numParams_1+1\n",
    "chi2_1 = np.sum(((d - func1(a_1[0],h,a_1[1]))**2 )/sigma_d**2)\n",
    "ndof_2 = len(h) - numParams_2+1\n",
    "chi2_2 = np.sum(((d - func2(a_2[0],h, a_2[1], a_2[2]))/sigma_d)**2)\n",
    "ndof_3 = len(h) - numParams_1+1\n",
    "chi2_3 = np.sum(((d - func3(a_3[0],h, a_3[1]))/sigma_d)**2)\n",
    "\n",
    "sigma_a_1 = np.sqrt(np.diag(cov_a_1)) #std dev\n",
    "var_a_1 = np.diag(cov_a_1) #variance\n",
    "sigma_a_2 = np.sqrt(np.diag(cov_a_2)) #std dev\n",
    "var_a_2 = np.diag(cov_a_2) #variance\n",
    "sigma_a_3 = np.sqrt(np.diag(cov_a_3)) #std dev\n",
    "var_a_3 = np.diag(cov_a_3) #variance\n",
    "\n",
    "print('part a:')\n",
    "print(\"Fitted Params (LS Estimators) +- Std Dev \")\n",
    "for i in range(len(a_1)):\n",
    "    print(\"a\",i,\"\",a_1[i], \"+-\", sigma_a_1[i])\n",
    "    #print(\"Variance in LS Estimators:\", varthetaEst)\n",
    "print(\"\")\n",
    "print(\"Variance in LS Estimators up to order:\",3)\n",
    "for i in range(len(a_1)):\n",
    "    print(\"a\",i,\" variance\",var_a_1[i])\n",
    "print(\"\")\n",
    "print(\"Chi square number and degrees of freedom\")\n",
    "print(\"chi2 = \", chi2_1, \", ndof = \", ndof_1)\n",
    "#print(\"Represents P value of 1.0\")\n",
    "print(\"---------\")\n",
    "print('part b:')\n",
    "print(\"Fitted Params (LS Estimators) +- Std Dev \")\n",
    "for i in range(len(a_2)):\n",
    "    print(\"a\",i,\"\",a_2[i], \"+-\", sigma_a_2[i])\n",
    "    #print(\"Variance in LS Estimators:\", varthetaEst)\n",
    "print(\"\")\n",
    "print(\"Variance in LS Estimators up to order:\",3)\n",
    "for i in range(len(a_2)):\n",
    "    print(\"a\",i,\" variance\",var_a_2[i])\n",
    "print(\"\")\n",
    "print(\"Chi square number and degrees of freedom\")\n",
    "print(\"chi2 = \", chi2_2, \", ndof = \", ndof_2)\n",
    "#print(\"Represents P value of 1.0\")\n",
    "print(\"-----\")\n",
    "print('part c:')\n",
    "print(\"Fitted Params (LS Estimators) +- Std Dev \")\n",
    "for i in range(len(a_3)):\n",
    "    print(\"a\",i,\"\",a_3[i], \"+-\", sigma_a_3[i])\n",
    "    #print(\"Variance in LS Estimators:\", varthetaEst)\n",
    "print(\"\")\n",
    "print(\"Variance in LS Estimators up to order:\",3)\n",
    "for i in range(len(a_3)):\n",
    "    print(\"a\",i,\" variance\",var_a_3[i])\n",
    "print(\"\")\n",
    "print(\"Chi square number and degrees of freedom\")\n",
    "print(\"chi2 = \", chi2_3, \", ndof = \", ndof_2)\n",
    "#print(\"Represents P value of 1.0\")\n",
    "print(\"-----\")\n",
    "\n",
    "al1 = a_1[0]\n",
    "al2 = a_1[1]\n",
    "\n",
    "num_pseudoexp = 100\n",
    "num_vals = len(h)\n",
    "pseudo_x = np . zeros ( num_vals * num_pseudoexp ). reshape (( num_vals , num_pseudoexp ))\n",
    "chi2_vec = np . zeros ( num_pseudoexp )\n",
    "for i in range ( len (h )):\n",
    "    pseudo_x [i] = np . random . normal ( h[i] ,h_unc [i], num_pseudoexp )\n",
    "# to avoid useless computation power we choose a range close enough to\n",
    "# the one computed from the previous approach\n",
    "al1_sc = np . linspace (0 , 1, 200)\n",
    "al2_sc = np . linspace (300 , 400 , 200)\n",
    "chi2vmin = 999.e10 # arbitrarily large value\n",
    "a_new = []\n",
    "# chi2 function with penalty\n",
    "def chi2pen ( al1 , al2 , xval ):\n",
    "    chi2 = sum ( np . power (d - al1 * xval + al2 / xval , 2) / np . power ( d_unc , 2) )\n",
    "    chi2 += sum ( np . power (h - xval , 2) / np . power ( h_unc , 2) ) # penalty function\n",
    "    return chi2\n",
    "# find minimum chi2 using pseudoexperiments\n",
    "chi2_matrix = np . zeros ( len ( al1_sc ) *len ( al2_sc ) ). reshape (( len ( al1_sc ) , len( al2_sc )) )\n",
    "# define 'best alpha 's indices ' as the ones minimising the chi2\n",
    "best_al1_idx = -1\n",
    "best_al2_idx = -1\n",
    "for i in range (len(al1_sc)):\n",
    "    al1 = al1_sc[i]\n",
    "    for j in range (len(al2_sc)) :\n",
    "        al2 = al2_sc [j]\n",
    "        # compute pseudoexperiments for this ( alpha1 , alpha2 ) combination\n",
    "        for k in range ( num_pseudoexp ):\n",
    "            xval = pseudo_x [: , k]\n",
    "            chi2_vec [k] = chi2pen ( al1 , al2 , xval )\n",
    "        chi2min = min ( chi2_vec )\n",
    "        if chi2min < chi2vmin :\n",
    "            chi2vmin = chi2min\n",
    "            a_new = [ al1 , al2 ]\n",
    "            best_al1_idx = i\n",
    "            best_al2_idx = j\n",
    "        chi2_matrix [i , j] = chi2min\n",
    "\n",
    "        \n",
    "# find uncertainties using graphical method\n",
    "unc_al1_low , unc_al1_high , unc_al2_low , unc_al2_high = ([ -1. for _ in range (4) ])\n",
    "for i in range ( len ( al1_sc )):\n",
    "    if chi2_matrix [i , best_al2_idx ] <= chi2vmin +1.:\n",
    "        if unc_al1_low < 0.:\n",
    "            unc_al1_low = al1_sc [i ]\n",
    "        unc_al1_high = al1_sc [i]\n",
    "        \n",
    "for j in range ( len ( al2_sc )):\n",
    "    if chi2_matrix [ best_al1_idx , j] <= chi2vmin +1.:\n",
    "        if unc_al2_low < 0.:\n",
    "            unc_al2_low = al2_sc [j ]\n",
    "        unc_al2_high = al2_sc [j]\n",
    "# assume uncertainties are symmetric for simplicity\n",
    "al1 , al2 = [ float (a ) for a in a_new ]\n",
    "al1_unc = ( unc_al1_high - unc_al1_low ) /2.\n",
    "al2_unc = ( unc_al2_high - unc_al2_low ) /2.\n",
    "print ('pseudo - experiments\\' results :')\n",
    "print ('al1 = {} +{} -{} (+ -{}) '. format ( al1 , unc_al1_low , unc_al1_high , al1_unc ))\n",
    "print ('al2 = {} +{} -{} (+ -{}) '. format ( al2 , unc_al2_low , unc_al2_high , al2_unc ))"
   ]
  },
  {
   "cell_type": "code",
   "execution_count": 77,
   "metadata": {},
   "outputs": [
    {
     "data": {
      "text/plain": [
       "<matplotlib.legend.Legend at 0x7ffe7da05410>"
      ]
     },
     "execution_count": 77,
     "metadata": {},
     "output_type": "execute_result"
    },
    {
     "data": {
      "image/png": "[encoded data removed]",
      "text/plain": [
       "<Figure size 1080x1080 with 5 Axes>"
      ]
     },
     "metadata": {
      "needs_background": "light"
     },
     "output_type": "display_data"
    }
   ],
   "source": [
    "#plots\n",
    "import matplotlib.patches as mpatches\n",
    "\n",
    "fig, (ax1,ax2, ax3, ax4, ax5) = plt.subplots(5,1, figsize=(15,15))\n",
    "\n",
    "\n",
    "ax2.plot(h, func1(0.27145862586793734, h, 302.01542761638))\n",
    "ax2.set_title('LS est a)')\n",
    "\n",
    "ax1.plot(h,d)\n",
    "ax1.set_title('Actual dat')\n",
    "\n",
    "ax3.plot(h, func2(0.2714586237694187, h,586.5489292571231, 258.7927526746255))\n",
    "ax3.set_title('LS est b)')\n",
    "\n",
    "ax4.plot(h, func3(0.07368978481496058, h,302.0154282642992))\n",
    "ax4.set_title('LS est c)')\n",
    "\n",
    "ax5.scatter(h,d, color='black')\n",
    "blue_patch = mpatches.Patch(color='blue', label='Linear')\n",
    "orange_patch = mpatches.Patch(color='orange', label='Quadratic')\n",
    "red_patch = mpatches.Patch(color='red', label='square root')\n",
    "#ax5.plot(h, func2(0.2714586237694187, h,586.5489292571231, 258.7927526746255), color='red')\n",
    "ax5.plot(h, func1(0.27145862586793734, h, 302.01542761638), color='blue')\n",
    "ax5.plot(h, func3(0.07368978481496058, h,302.0154282642992), color='orange')\n",
    "ax5.legend(handles=[blue_patch, orange_patch, red_patch])\n"
   ]
  },
  {
   "cell_type": "code",
   "execution_count": 64,
   "metadata": {},
   "outputs": [
    {
     "name": "stdout",
     "output_type": "stream",
     "text": [
      "[ 181.98469297  581.98469297  981.98469297  281.98469297  681.98469297\n",
      " 1081.98469297  381.98469297  781.98469297 1281.98469297  481.98469297\n",
      "  881.98469297 1481.98469297]\n",
      "0.27145862586793734\n"
     ]
    }
   ],
   "source": [
    "print(func1(*a_1,h))\n",
    "print(a_1[0])"
   ]
  },
  {
   "cell_type": "code",
   "execution_count": 85,
   "metadata": {},
   "outputs": [
    {
     "name": "stdout",
     "output_type": "stream",
     "text": [
      "a factor 0.6088827586206897\n",
      "variance on a: 2.331034482758621e-05\n",
      "uncertainty on a: 0.004828078792603349\n"
     ]
    }
   ],
   "source": [
    "import matplotlib . pyplot as plt\n",
    "import numpy as np\n",
    "from scipy . stats import chi2\n",
    "\n",
    "h = [100., 500., 900., 200., 600., 1000., 300., 700., 1200., 400., 800., 1400.] #height\n",
    "d = [253., 469., 557., 337., 495., 573., 395., 520., 609., 438., 534., 643.] #distance\n",
    "d_unc = [13., 13., 13., 13., 13., 13., 13., 13., 13., 13., 13., 13.]\n",
    "h_unc = [4., 4., 4., 4., 4., 4., 4., 4., 4., 4., 4., 4.]\n",
    "\n",
    "V = np.diag([unc**2 for unc in d_unc ])\n",
    "inv_V = np.linalg.inv(V)\n",
    "\n",
    "A = np.array([h]).T # Nx2 measurement array\n",
    "darr = np.array ([d]) . T # Nx1 measurements array\n",
    "\n",
    "\n",
    "# linear a extrapolation\n",
    "a = float(np.linalg.inv(A.T.dot(inv_V ).dot(A))*A.T.dot(inv_V).dot(d))\n",
    "print ('a factor',a)\n",
    "\n",
    "# variance\n",
    "var_a = float(np.linalg.inv(A.T.dot(inv_V).dot(A)))\n",
    "a_unc = np.sqrt(var_a )\n",
    "print ('variance on a:', var_a )\n",
    "print ('uncertainty on a:', a_unc )\n",
    "\n",
    "\n",
    "\n",
    "# # covariance\n",
    "# cov_a = np.linalg.inv(A.T.dot(inv_V).dot(A)).T\n",
    "# print ('variance on a:\\n', cov_a )\n",
    "\n",
    "# # chi2 /P- values\n",
    "# chi2_val = float((darr -A.dot(a)).T.dot(inv_V).dot(darr -A.dot(a)))\n",
    "# print ('chi2 value :', chi2_val )\n",
    "# pval = 1- chi2.cdf(chi2_val,len(d)-2)\n",
    "# print ('P- value :', pval )\n",
    "# al1 = float (a[0])\n",
    "# al2 = float (a[1])"
   ]
  },
  {
   "cell_type": "code",
   "execution_count": 111,
   "metadata": {},
   "outputs": [
    {
     "name": "stdout",
     "output_type": "stream",
     "text": [
      "a vector : [[9.89996665e-04 5.89395642e+05]]\n",
      "variance on a:\n",
      " [[1.50009097e-09 8.84812185e-01]\n",
      " [8.84812185e-01 5.23862987e+08]]\n",
      "chi2 value : 10.063205637121255\n",
      "P- value : 0.01803643486998696\n",
      "resistor value R: 84.83265982054328 +- 3.2943142199094364\n",
      "self value L: 0.08398405031368901 +- 0.00020210815284376385\n"
     ]
    },
    {
     "ename": "KeyboardInterrupt",
     "evalue": "",
     "output_type": "error",
     "traceback": [
      "\u001b[0;31m---------------------------------------------------------------------------\u001b[0m",
      "\u001b[0;31mKeyboardInterrupt\u001b[0m                         Traceback (most recent call last)",
      "\u001b[0;32m<ipython-input-111-2576a34edaa2>\u001b[0m in \u001b[0;36m<module>\u001b[0;34m\u001b[0m\n\u001b[1;32m     67\u001b[0m         \u001b[0;32mfor\u001b[0m \u001b[0mk\u001b[0m \u001b[0;32min\u001b[0m \u001b[0mrange\u001b[0m \u001b[0;34m(\u001b[0m \u001b[0mnum_pseudoexp\u001b[0m \u001b[0;34m)\u001b[0m\u001b[0;34m:\u001b[0m\u001b[0;34m\u001b[0m\u001b[0;34m\u001b[0m\u001b[0m\n\u001b[1;32m     68\u001b[0m             \u001b[0mxval\u001b[0m \u001b[0;34m=\u001b[0m \u001b[0mpseudo_x\u001b[0m \u001b[0;34m[\u001b[0m\u001b[0;34m:\u001b[0m \u001b[0;34m,\u001b[0m \u001b[0mk\u001b[0m\u001b[0;34m]\u001b[0m\u001b[0;34m\u001b[0m\u001b[0;34m\u001b[0m\u001b[0m\n\u001b[0;32m---> 69\u001b[0;31m             \u001b[0mchi2_vec\u001b[0m \u001b[0;34m[\u001b[0m\u001b[0mk\u001b[0m\u001b[0;34m]\u001b[0m \u001b[0;34m=\u001b[0m \u001b[0mchi2pen\u001b[0m \u001b[0;34m(\u001b[0m \u001b[0mal1\u001b[0m \u001b[0;34m,\u001b[0m \u001b[0mal2\u001b[0m \u001b[0;34m,\u001b[0m \u001b[0mxval\u001b[0m \u001b[0;34m)\u001b[0m\u001b[0;34m\u001b[0m\u001b[0;34m\u001b[0m\u001b[0m\n\u001b[0m\u001b[1;32m     70\u001b[0m         \u001b[0mchi2min\u001b[0m \u001b[0;34m=\u001b[0m \u001b[0mmin\u001b[0m \u001b[0;34m(\u001b[0m \u001b[0mchi2_vec\u001b[0m \u001b[0;34m)\u001b[0m\u001b[0;34m\u001b[0m\u001b[0;34m\u001b[0m\u001b[0m\n\u001b[1;32m     71\u001b[0m         \u001b[0;32mif\u001b[0m \u001b[0mchi2min\u001b[0m \u001b[0;34m<\u001b[0m \u001b[0mchi2vmin\u001b[0m \u001b[0;34m:\u001b[0m\u001b[0;34m\u001b[0m\u001b[0;34m\u001b[0m\u001b[0m\n",
      "\u001b[0;32m<ipython-input-111-2576a34edaa2>\u001b[0m in \u001b[0;36mchi2pen\u001b[0;34m(al1, al2, xval)\u001b[0m\n\u001b[1;32m     53\u001b[0m \u001b[0;32mdef\u001b[0m \u001b[0mchi2pen\u001b[0m \u001b[0;34m(\u001b[0m \u001b[0mal1\u001b[0m \u001b[0;34m,\u001b[0m \u001b[0mal2\u001b[0m \u001b[0;34m,\u001b[0m \u001b[0mxval\u001b[0m \u001b[0;34m)\u001b[0m\u001b[0;34m:\u001b[0m\u001b[0;34m\u001b[0m\u001b[0;34m\u001b[0m\u001b[0m\n\u001b[1;32m     54\u001b[0m     \u001b[0mchi2\u001b[0m \u001b[0;34m=\u001b[0m \u001b[0msum\u001b[0m \u001b[0;34m(\u001b[0m \u001b[0mnp\u001b[0m \u001b[0;34m.\u001b[0m \u001b[0mpower\u001b[0m \u001b[0;34m(\u001b[0m\u001b[0my\u001b[0m \u001b[0;34m-\u001b[0m \u001b[0mal1\u001b[0m \u001b[0;34m*\u001b[0m \u001b[0mxval\u001b[0m \u001b[0;34m+\u001b[0m \u001b[0mal2\u001b[0m \u001b[0;34m/\u001b[0m \u001b[0mxval\u001b[0m \u001b[0;34m,\u001b[0m \u001b[0;36m2\u001b[0m\u001b[0;34m)\u001b[0m \u001b[0;34m/\u001b[0m \u001b[0mnp\u001b[0m \u001b[0;34m.\u001b[0m \u001b[0mpower\u001b[0m \u001b[0;34m(\u001b[0m \u001b[0my_unc\u001b[0m \u001b[0;34m,\u001b[0m \u001b[0;36m2\u001b[0m\u001b[0;34m)\u001b[0m \u001b[0;34m)\u001b[0m\u001b[0;34m\u001b[0m\u001b[0;34m\u001b[0m\u001b[0m\n\u001b[0;32m---> 55\u001b[0;31m     \u001b[0mchi2\u001b[0m \u001b[0;34m+=\u001b[0m \u001b[0msum\u001b[0m \u001b[0;34m(\u001b[0m \u001b[0mnp\u001b[0m \u001b[0;34m.\u001b[0m \u001b[0mpower\u001b[0m \u001b[0;34m(\u001b[0m\u001b[0mx\u001b[0m \u001b[0;34m-\u001b[0m \u001b[0mxval\u001b[0m \u001b[0;34m,\u001b[0m \u001b[0;36m2\u001b[0m\u001b[0;34m)\u001b[0m \u001b[0;34m/\u001b[0m \u001b[0mnp\u001b[0m \u001b[0;34m.\u001b[0m \u001b[0mpower\u001b[0m \u001b[0;34m(\u001b[0m \u001b[0mx_unc\u001b[0m \u001b[0;34m,\u001b[0m \u001b[0;36m2\u001b[0m\u001b[0;34m)\u001b[0m \u001b[0;34m)\u001b[0m \u001b[0;31m# penalty function\u001b[0m\u001b[0;34m\u001b[0m\u001b[0;34m\u001b[0m\u001b[0m\n\u001b[0m\u001b[1;32m     56\u001b[0m     \u001b[0;32mreturn\u001b[0m \u001b[0mchi2\u001b[0m\u001b[0;34m\u001b[0m\u001b[0;34m\u001b[0m\u001b[0m\n\u001b[1;32m     57\u001b[0m \u001b[0;31m# find minimum chi2 using pseudoexperiments\u001b[0m\u001b[0;34m\u001b[0m\u001b[0;34m\u001b[0m\u001b[0;34m\u001b[0m\u001b[0m\n",
      "\u001b[0;31mKeyboardInterrupt\u001b[0m: "
     ]
    }
   ],
   "source": [
    "import matplotlib . pyplot as plt\n",
    "import numpy as np\n",
    "from scipy . stats import chi2\n",
    "# problem parameters\n",
    "y = [ -4.02 , -2.74 , -1.15 , 1.49 , 6.87]\n",
    "y_unc = [0.5 , 0.25 , 0.08 , 0.09 , 1.9]\n",
    "x = [22.0e3 , 22.93e3 , 23.88e3 , 25.13e3 , 26.39e3 ]\n",
    "x_unc = [440. , 470. , 500. , 530. , 540.]\n",
    "C = 0.02e-6 # in F\n",
    "omega0 = 1. # in rad /s\n",
    "# diagonal uncertainties matrix and its inverse\n",
    "V = np . diag ([ unc **2 for unc in y_unc ])\n",
    "inv_V = np . linalg . inv (V )\n",
    "A = np . array ([[ xval , -1./ xval ] for xval in x ]) # Nx2 measurement array\n",
    "yarr = np . array ([ y ]) . T # Nx1 measurements array\n",
    "# linear a extrapolation\n",
    "a = np . linalg . inv (A.T . dot ( inv_V ). dot ( A)). dot ( A.T) . dot ( inv_V ). dot ( yarr )\n",
    "print ('a vector :', a.T)\n",
    "# covariance\n",
    "cov_a = np . linalg . inv (A .T. dot ( inv_V ). dot (A) ).T\n",
    "print ('variance on a:\\n', cov_a )\n",
    "# chi2 /P- values\n",
    "chi2_val = float (( yarr -A. dot (a )).T . dot ( inv_V ). dot ( yarr -A. dot (a )))\n",
    "print ('chi2 value :', chi2_val )\n",
    "pval = 1- chi2 . cdf ( chi2_val , len (y ) -2)\n",
    "print ('P- value :', pval )\n",
    "al1 = float ( a [0])\n",
    "al2 = float ( a [1])\n",
    "\n",
    "\n",
    "# extrapolated value of L and R\n",
    "R = 1./ omega0 /C/ al2\n",
    "R_unc = 1./ al2 **2/ omega0 /C* np . sqrt ( float ( cov_a [1 ,1]) )\n",
    "L = al1 / al2 *1./ C/ omega0 **2\n",
    "L_unc = 1./( C* omega0 **2* al2 ) **2* cov_a [0 ,0]+( al1 /( C* omega0 **2* al2 **2) ) **2* cov_a [1 ,1]\n",
    "L_unc -= (2.* al1 /( C **2* omega0 **4* al2 **3) )* cov_a [0 ,1]\n",
    "L_unc = np . sqrt ( L_unc )\n",
    "print ('resistor value R:', R , '+-', R_unc )\n",
    "print ('self value L:', L , '+-', L_unc )\n",
    "num_pseudoexp = 100\n",
    "num_vals = len( x)\n",
    "pseudo_x = np . zeros ( num_vals * num_pseudoexp ). reshape (( num_vals , num_pseudoexp ))\n",
    "chi2_vec = np . zeros ( num_pseudoexp )\n",
    "for i in range ( len (x )):\n",
    "    pseudo_x [i] = np . random . normal ( x[i] , x_unc [i], num_pseudoexp )\n",
    "# to avoid useless computation power we choose a range close enough to\n",
    "# the one computed from the previous approach\n",
    "al1_sc = np . linspace (9e-4 , 10e-4 , 200)\n",
    "al2_sc = np . linspace (5e5 , 6e5 , 200)\n",
    "chi2vmin = 999.e10 # arbitrarily large value\n",
    "a_new = []\n",
    "# chi2 function with penalty\n",
    "def chi2pen ( al1 , al2 , xval ):\n",
    "    chi2 = sum ( np . power (y - al1 * xval + al2 / xval , 2) / np . power ( y_unc , 2) )\n",
    "    chi2 += sum ( np . power (x - xval , 2) / np . power ( x_unc , 2) ) # penalty function\n",
    "    return chi2\n",
    "# find minimum chi2 using pseudoexperiments\n",
    "chi2_matrix = np . zeros ( len ( al1_sc ) *len ( al2_sc ) ). reshape (( len ( al1_sc ) , len( al2_sc )) )\n",
    "# define 'best alpha 's indices ' as the ones minimising the chi2\n",
    "best_al1_idx = -1\n",
    "best_al2_idx = -1\n",
    "for i in range (len(al1_sc)):\n",
    "    al1 = al1_sc[i]\n",
    "    for j in range (len(al2_sc)) :\n",
    "        al2 = al2_sc [j]\n",
    "        # compute pseudoexperiments for this ( alpha1 , alpha2 ) combination\n",
    "        for k in range ( num_pseudoexp ):\n",
    "            xval = pseudo_x [: , k]\n",
    "            chi2_vec [k] = chi2pen ( al1 , al2 , xval )\n",
    "        chi2min = min ( chi2_vec )\n",
    "        if chi2min < chi2vmin :\n",
    "            chi2vmin = chi2min\n",
    "            a_new = [ al1 , al2 ]\n",
    "            best_al1_idx = i\n",
    "            best_al2_idx = j\n",
    "        chi2_matrix [i , j] = chi2min\n",
    "        \n",
    "\n",
    "    "
   ]
  },
  {
   "cell_type": "code",
   "execution_count": 104,
   "metadata": {},
   "outputs": [
    {
     "name": "stdout",
     "output_type": "stream",
     "text": [
      "pseudo - experiments' results :\n",
      "al1 = 0.0009693467336683417 +0.0009673366834170855 -0.000971356783919598 (+ -2.0100502512562703e-06) \n",
      "al2 = 578894.4723618091 +577889.4472361809 -579899.4974874372 (+ -1005.0251256281626) \n",
      "minimal chi2 value : 3.870895956802343\n",
      "resistor value R: 86.37152777777777 +- 0.1499505690586452\n",
      "self value L: 0.08372395833333332 +- 0.00016930155703190436\n"
     ]
    }
   ],
   "source": [
    "# find uncertainties using graphical method\n",
    "unc_al1_low , unc_al1_high , unc_al2_low , unc_al2_high = ([ -1. for _ in range (4) ])\n",
    "for i in range ( len ( al1_sc )):\n",
    "    if chi2_matrix [i , best_al2_idx ] <= chi2vmin +1.:\n",
    "        if unc_al1_low < 0.:\n",
    "            unc_al1_low = al1_sc [i ]\n",
    "        unc_al1_high = al1_sc [i]\n",
    "        \n",
    "for j in range ( len ( al2_sc )):\n",
    "    if chi2_matrix [ best_al1_idx , j] <= chi2vmin +1.:\n",
    "        if unc_al2_low < 0.:\n",
    "            unc_al2_low = al2_sc [j ]\n",
    "        unc_al2_high = al2_sc [j]\n",
    "# assume uncertainties are symmetric for simplicity\n",
    "al1 , al2 = [ float (a ) for a in a_new ]\n",
    "al1_unc = ( unc_al1_high - unc_al1_low ) /2.\n",
    "al2_unc = ( unc_al2_high - unc_al2_low ) /2.\n",
    "print ('pseudo - experiments\\' results :')\n",
    "print ('al1 = {} +{} -{} (+ -{}) '. format ( al1 , unc_al1_low , unc_al1_high , al1_unc ))\n",
    "print ('al2 = {} +{} -{} (+ -{}) '. format ( al2 , unc_al2_low , unc_al2_high , al2_unc ))\n",
    "R = 1./ omega0 /C/ al2\n",
    "R_unc = 1./ omega0 /C / al2 **2 * al2_unc\n",
    "L = al1 / al2 *1./ C/ omega0 **2\n",
    "L_unc = np . sqrt (( al1 * R_unc / omega0 ) **2+( R* al1_unc /2./ omega0 ) **2)\n",
    "print ('minimal chi2 value :', chi2vmin )\n",
    "print ('resistor value R:', R , '+-', R_unc )\n",
    "print ('self value L:', L , '+-', L_unc )"
   ]
  },
  {
   "cell_type": "code",
   "execution_count": 113,
   "metadata": {},
   "outputs": [
    {
     "name": "stdout",
     "output_type": "stream",
     "text": [
      "0.007142857142857143\n"
     ]
    }
   ],
   "source": [
    "print(1/140)\n"
   ]
  },
  {
   "cell_type": "code",
   "execution_count": 138,
   "metadata": {},
   "outputs": [
    {
     "data": {
      "text/plain": [
       "(5929957543.532951, 35926803.833921276, 0.6058526316617909)"
      ]
     },
     "execution_count": 138,
     "metadata": {},
     "output_type": "execute_result"
    }
   ],
   "source": [
    "def func(f,a,b,f_1,a_1,b_1):\n",
    "    t = (2.303*np.log10(f))/((0.693/a)-(0.693/b))\n",
    "    err = np.sqrt((1./(f**2*(a-b)**4))*(f**2 * (11.0439*a**4 * b_1**2 + 11.0439*a_1**2 * b**4) * (np.log10(f))**2 + a**2 * b**2 * f_1**2 *( 11.0439*a**2 - 22.0877*a*b+ 11.0439* b**2) ) ) \n",
    "    return t, err, (err/t *100)\n",
    "\n",
    "f = 0.00726\n",
    "f_1 = 0.00005 \n",
    "a = 4.47e9\n",
    "a_1 = 0.02e9\n",
    "b = 0.703e9\n",
    "b_1 = 0.003e9\n",
    "\n",
    "func(f,a,b,f_1,a_1,b_1)\n",
    "\n",
    "#error = np.sqrt((1/(f**2(a-b)**4))(f**2 * (11.0439*a**4 * b_1**2 + 11.0439*a_1**2 * b**4) * np.log**2(f) + a**2 * b**2 * f_1**2 *( 11.0439*a**2 - 22.0877*a*b+ 11.0439* b**2) ) ) "
   ]
  },
  {
   "cell_type": "code",
   "execution_count": 140,
   "metadata": {},
   "outputs": [
    {
     "name": "stdout",
     "output_type": "stream",
     "text": [
      "[[ 9.83400000e+13 -2.03181818e+05]\n",
      " [ 1.02497100e+14 -1.94941125e+05]\n",
      " [ 1.06743600e+14 -1.87185930e+05]\n",
      " [ 1.12331100e+14 -1.77875050e+05]\n",
      " [ 1.17963300e+14 -1.69382342e+05]]\n"
     ]
    }
   ],
   "source": [
    "print(A. dot (a ))"
   ]
  },
  {
   "cell_type": "code",
   "execution_count": null,
   "metadata": {},
   "outputs": [],
   "source": []
  }
 ],
 "metadata": {
  "kernelspec": {
   "display_name": "Python 3",
   "language": "python",
   "name": "python3"
  },
  "language_info": {
   "codemirror_mode": {
    "name": "ipython",
    "version": 3
   },
   "file_extension": ".py",
   "mimetype": "text/x-python",
   "name": "python",
   "nbconvert_exporter": "python",
   "pygments_lexer": "ipython3",
   "version": "3.7.6"
  }
 },
 "nbformat": 4,
 "nbformat_minor": 4
}
