{
 "cells": [
  {
   "cell_type": "code",
   "execution_count": 13,
   "metadata": {},
   "outputs": [
    {
     "name": "stdout",
     "output_type": "stream",
     "text": [
      "[3.3 3.3 3.3 3.3 3.3 3.3]\n",
      "2521\n",
      "Sample mean= 1300.113600\n",
      "Standard Deviation= 848.120643\n",
      "Fraction of PE's with no electron signal =0.252100\n",
      "0.0373\n"
     ]
    },
    {
     "data": {
      "image/png": "[encoded data removed]",
      "text/plain": [
       "<Figure size 432x288 with 1 Axes>"
      ]
     },
     "metadata": {
      "needs_background": "light"
     },
     "output_type": "display_data"
    }
   ],
   "source": [
    "# SImultating the electron production in a Photomultiplier tube with Monte carlo. \n",
    "\n",
    "import numpy as np\n",
    "import matplotlib.pyplot as plt\n",
    "\n",
    "\n",
    "#np.random.seed(np.random.randint(1,10000,1))\n",
    "np.random.seed(42)\n",
    "\n",
    "\n",
    "\n",
    "#init\n",
    "N = 6\n",
    "M = 10000\n",
    "n_out_arr= np.zeros(M)\n",
    "\n",
    "\n",
    "nu = np.zeros(N)\n",
    "#nu[0] = 6.\n",
    "for i in range(0,N):\n",
    "    nu[i] = 3.3\n",
    "\n",
    "print(nu)\n",
    "c=0 \n",
    "for i in range(0, M):\n",
    "    n_in = 1\n",
    "    #print(\"n_in=%f\" %n_in)\n",
    "    for j in range(0,N):\n",
    "        n_out =0\n",
    "        #print(\"n_out=%f\" %n_out)\n",
    "        for k in range(0, n_in):\n",
    "            n=np.random.poisson(nu[j])\n",
    "            #print(\"n=%f\" %n)\n",
    "            n_out = n_out + n\n",
    "            #print(\"n_out=%f\" %n_out)\n",
    "            #print(\"------\")\n",
    "        n_out_arr[i] = n_out\n",
    "        if n_out ==0:\n",
    "            c+=1\n",
    "        n_in = n_out\n",
    "        #print(\"n_in=%f\" %n_in)\n",
    "        #print(\"-----\")\n",
    "    #print(\"-----\")\n",
    "\n",
    "                \n",
    "print(c)           \n",
    "\n",
    "num_bins = 50\n",
    "fig, ax = plt.subplots()\n",
    "\n",
    "# the histogram of the data\n",
    "n, bins, patches = ax.hist(n_out_arr, num_bins, density=True)\n",
    "\n",
    "samp_mean = 1/M * np.sum(n_out_arr)\n",
    "print(\"Sample mean= %f\" %samp_mean)\n",
    "s=0\n",
    "for i in range(0,M):\n",
    "    s += np.sum((n_out_arr[i] - samp_mean)**2)\n",
    "    \n",
    "\n",
    "# meanout = np.sum(n_out_arr) / M\n",
    "# meanoutsq = np.sum(n_out_arr*n_out_arr) / M\n",
    "# nout_sd = np.sqrt(M/(M-1) * (meanoutsq-meanout*meanout))\n",
    "\n",
    "# print('meanout=%f, meanoutsq=%f, nout_sd=%f, ' %(meannout, meanoutsq, nout_sd))\n",
    "print(\"Standard Deviation= %f\" %np.sqrt((1/(M-1))*s))\n",
    "print(\"Fraction of PE's with no electron signal =%f\" %(c/M))\n",
    "\n",
    "\n",
    "a=0\n",
    "for i in range(0,M):\n",
    "    z = np.random.poisson(3.3)\n",
    "    if z ==0:\n",
    "        a+=1\n",
    "        \n",
    "print(a/M)"
   ]
  },
  {
   "cell_type": "code",
   "execution_count": 135,
   "metadata": {},
   "outputs": [
    {
     "name": "stdout",
     "output_type": "stream",
     "text": [
      "[0. 1. 2. 3. 4.]\n",
      "10.0\n",
      "2.0\n",
      "2.5\n"
     ]
    }
   ],
   "source": [
    "eg_arr = np.zeros(5)\n",
    "for i in range (0,5):\n",
    "    eg_arr[i] = i\n",
    "print(eg_arr)\n",
    "mu = np.mean(eg_arr)\n",
    "s=0\n",
    "for i in range(0,5):\n",
    "    s += (eg_arr[i] - mu)**2\n",
    "\n",
    "print(s)\n",
    "print(mu)\n",
    "print((1/(4))*s)"
   ]
  },
  {
   "cell_type": "markdown",
   "metadata": {},
   "source": [
    "The sampel mean can be calculated from \n",
    "$$ \\bar{n_{out}} = \\frac{1}{M}\\sum_{i=1}^M n_{out,i} $$\n",
    "The sample variance is calculated from \n",
    "$$ V = \\frac{1}{M-1} \\sum_{i=1}^M (n_{out,i} - \\bar{n_{out}})^2 $$\n",
    "Comparing $V$ to the equation in the problem sheet. Compare the sample STD to the value that one would obtain from a poisson distribuuted variable with mean $\\nu_{out}$\n"
   ]
  },
  {
   "cell_type": "code",
   "execution_count": 15,
   "metadata": {},
   "outputs": [
    {
     "data": {
      "text/plain": [
       "<matplotlib.collections.LineCollection at 0x7fefe3907d10>"
      ]
     },
     "execution_count": 15,
     "metadata": {},
     "output_type": "execute_result"
    },
    {
     "data": {
      "image/png": "[encoded data removed]",
      "text/plain": [
       "<Figure size 432x288 with 1 Axes>"
      ]
     },
     "metadata": {
      "needs_background": "light"
     },
     "output_type": "display_data"
    }
   ],
   "source": [
    "\n",
    "from scipy.stats import poisson\n",
    "\n",
    "fig, ax = plt.subplots(1, 1)\n",
    "mu = 3.3\n",
    "mean, var, skew, kurt = poisson.stats(mu, moments='mvsk') \n",
    "x = np.arange(poisson.ppf(0.01, mu),\n",
    "              poisson.ppf(0.99, mu))\n",
    "ax.plot(x, poisson.pmf(x, mu), 'bo', ms=1000, label='poisson pmf')\n",
    "ax.vlines(x, 0, poisson.pmf(x, mu), colors='b', lw=5, alpha=0.5)"
   ]
  },
  {
   "cell_type": "code",
   "execution_count": null,
   "metadata": {},
   "outputs": [],
   "source": []
  }
 ],
 "metadata": {
  "kernelspec": {
   "display_name": "Python 3",
   "language": "python",
   "name": "python3"
  },
  "language_info": {
   "codemirror_mode": {
    "name": "ipython",
    "version": 3
   },
   "file_extension": ".py",
   "mimetype": "text/x-python",
   "name": "python",
   "nbconvert_exporter": "python",
   "pygments_lexer": "ipython3",
   "version": "3.7.6"
  }
 },
 "nbformat": 4,
 "nbformat_minor": 4
}
