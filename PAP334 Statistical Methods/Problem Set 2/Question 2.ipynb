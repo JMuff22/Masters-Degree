{
 "cells": [
  {
   "cell_type": "markdown",
   "metadata": {},
   "source": [
    "# Question 2 part(b)(i)"
   ]
  },
  {
   "cell_type": "markdown",
   "metadata": {},
   "source": [
    "Compare a Poisson distribution with a mean of 7 with the corresponding Gaussian distribution (the one having the same mean and variance as the Poisson distribution) by plotting them on top of each other in the same histogram."
   ]
  },
  {
   "cell_type": "code",
   "execution_count": 1,
   "metadata": {},
   "outputs": [
    {
     "ename": "NameError",
     "evalue": "name 'mpatches' is not defined",
     "output_type": "error",
     "traceback": [
      "\u001b[0;31m---------------------------------------------------------------------------\u001b[0m",
      "\u001b[0;31mNameError\u001b[0m                                 Traceback (most recent call last)",
      "\u001b[0;32m<ipython-input-1-ec904f3563c3>\u001b[0m in \u001b[0;36m<module>\u001b[0;34m\u001b[0m\n\u001b[1;32m     12\u001b[0m \u001b[0;34m\u001b[0m\u001b[0m\n\u001b[1;32m     13\u001b[0m \u001b[0mcount\u001b[0m\u001b[0;34m,\u001b[0m \u001b[0mbins\u001b[0m\u001b[0;34m,\u001b[0m \u001b[0mignored\u001b[0m \u001b[0;34m=\u001b[0m \u001b[0mplt\u001b[0m\u001b[0;34m.\u001b[0m\u001b[0mhist\u001b[0m\u001b[0;34m(\u001b[0m\u001b[0mP\u001b[0m\u001b[0;34m,\u001b[0m \u001b[0;36m30\u001b[0m\u001b[0;34m,\u001b[0m \u001b[0mdensity\u001b[0m\u001b[0;34m=\u001b[0m\u001b[0;32mTrue\u001b[0m\u001b[0;34m)\u001b[0m\u001b[0;34m\u001b[0m\u001b[0;34m\u001b[0m\u001b[0m\n\u001b[0;32m---> 14\u001b[0;31m \u001b[0mblue_patch\u001b[0m \u001b[0;34m=\u001b[0m \u001b[0mmpatches\u001b[0m\u001b[0;34m.\u001b[0m\u001b[0mPatch\u001b[0m\u001b[0;34m(\u001b[0m\u001b[0mcolor\u001b[0m\u001b[0;34m=\u001b[0m\u001b[0;34m'blue'\u001b[0m\u001b[0;34m,\u001b[0m \u001b[0mlabel\u001b[0m\u001b[0;34m=\u001b[0m\u001b[0;34m'Gaussian Dist'\u001b[0m\u001b[0;34m)\u001b[0m\u001b[0;34m\u001b[0m\u001b[0;34m\u001b[0m\u001b[0m\n\u001b[0m\u001b[1;32m     15\u001b[0m \u001b[0morange_patch\u001b[0m \u001b[0;34m=\u001b[0m \u001b[0mmpatches\u001b[0m\u001b[0;34m.\u001b[0m\u001b[0mPatch\u001b[0m\u001b[0;34m(\u001b[0m\u001b[0mcolor\u001b[0m\u001b[0;34m=\u001b[0m\u001b[0;34m'orange'\u001b[0m\u001b[0;34m,\u001b[0m \u001b[0mlabel\u001b[0m\u001b[0;34m=\u001b[0m\u001b[0;34m'Poisson dist'\u001b[0m\u001b[0;34m)\u001b[0m\u001b[0;34m\u001b[0m\u001b[0;34m\u001b[0m\u001b[0m\n\u001b[1;32m     16\u001b[0m \u001b[0mplt\u001b[0m\u001b[0;34m.\u001b[0m\u001b[0mlegend\u001b[0m\u001b[0;34m(\u001b[0m\u001b[0mhandles\u001b[0m\u001b[0;34m=\u001b[0m\u001b[0;34m[\u001b[0m\u001b[0mblue_patch\u001b[0m\u001b[0;34m,\u001b[0m \u001b[0morange_patch\u001b[0m\u001b[0;34m]\u001b[0m\u001b[0;34m)\u001b[0m\u001b[0;34m\u001b[0m\u001b[0;34m\u001b[0m\u001b[0m\n",
      "\u001b[0;31mNameError\u001b[0m: name 'mpatches' is not defined"
     ]
    },
    {
     "data": {
      "image/png": "[encoded data removed]",
      "text/plain": [
       "<Figure size 432x288 with 1 Axes>"
      ]
     },
     "metadata": {
      "needs_background": "light"
     },
     "output_type": "display_data"
    }
   ],
   "source": [
    "import matplotlib.pyplot as plt\n",
    "import numpy as np\n",
    "import matplotlib.patches as mpatches\n",
    "\n",
    "\n",
    "N = 10000\n",
    "mu = 7\n",
    "sigma = np.sqrt(mu)\n",
    "\n",
    "G = np.random.normal(mu, sigma, N)\n",
    "P = np.random.poisson(mu, N)\n",
    "\n",
    "count, bins, ignored = plt.hist(G, 30, density=True)\n",
    "\n",
    "count, bins, ignored = plt.hist(P, 30, density=True)\n",
    "blue_patch = mpatches.Patch(color='blue', label='Gaussian Dist')\n",
    "orange_patch = mpatches.Patch(color='orange', label='Poisson dist')\n",
    "plt.legend(handles=[blue_patch, orange_patch])\n",
    "plt.savefig('GVsP.png')\n",
    "plt.show()\n",
    "\n"
   ]
  },
  {
   "cell_type": "markdown",
   "metadata": {},
   "source": [
    "# Question 2 part(b)(ii)"
   ]
  },
  {
   "cell_type": "markdown",
   "metadata": {},
   "source": [
    "Do the same for two binomial distributions each at a time: one with p = 0.5 and 14 trials and another one with p = 0.005 and 1400 trials. What are the discrepancies between the two on-top-of-each- other plotted distributions? Which one of the binomial distributions is approximated better by the Gaussian distribution?"
   ]
  },
  {
   "cell_type": "code",
   "execution_count": 32,
   "metadata": {},
   "outputs": [
    {
     "data": {
      "image/png": "[encoded data removed]",
      "text/plain": [
       "<Figure size 432x288 with 1 Axes>"
      ]
     },
     "metadata": {
      "needs_background": "light"
     },
     "output_type": "display_data"
    }
   ],
   "source": [
    "import matplotlib.pyplot as plt\n",
    "import numpy as np\n",
    "import matplotlib.patches as mpatches\n",
    "\n",
    "\n",
    "n_1 = 14 #number of trials\n",
    "p_1 = 0.5 #probability \n",
    "\n",
    "n_2 = 1400 #number of trials\n",
    "p_2 = 0.005 #probability\n",
    "\n",
    "\n",
    "B_1 = np.random.binomial(n_1, p_1, N)\n",
    "B_2 = np.random.binomial(n_2, p_2, N)\n",
    "count, bins, ignored = plt.hist(B_1, 30, density=True)\n",
    "\n",
    "count, bins, ignored = plt.hist(B_2, 30, density=True)\n",
    "blue_patch = mpatches.Patch(color='blue', label='Binomial p = 0.5, n= 14')\n",
    "orange_patch = mpatches.Patch(color='orange', label='Binomial p = 0.005, n= 1400')\n",
    "plt.legend(handles=[blue_patch, orange_patch])\n",
    "plt.savefig('BVsB.png')\n",
    "plt.show()\n"
   ]
  },
  {
   "cell_type": "markdown",
   "metadata": {},
   "source": [
    "Discrepancies between the Gaussian and the Poisson distribution are that the gaussian distribution is continuous which is seen by the fact that there are no gaps between the bins in the histogram. The Poisson and Binomial distribution are discrete and bounded at 0 hence the histogram stopping at 0 for them but not for the Gaussian. The Gaussian is also symmetric whereas the Poisson is not.  "
   ]
  },
  {
   "cell_type": "markdown",
   "metadata": {},
   "source": [
    "The binomial distribution with p = 0.005 and n=1400 (orange) is better approximated by the gaussian distirbution as the histogram is more bell curved with an equal spread. This is due to having a higher n number and the probability being lower. Having more trials increases its approximation by a gaussian curve. "
   ]
  },
  {
   "cell_type": "code",
   "execution_count": 31,
   "metadata": {},
   "outputs": [
    {
     "data": {
      "image/png": "[encoded data removed]",
      "text/plain": [
       "<Figure size 432x288 with 1 Axes>"
      ]
     },
     "metadata": {
      "needs_background": "light"
     },
     "output_type": "display_data"
    }
   ],
   "source": [
    "import matplotlib.pyplot as plt\n",
    "import numpy as np\n",
    "import matplotlib.patches as mpatches\n",
    "\n",
    "\n",
    "n_1 = 14 #number of trials\n",
    "p_1 = 0.5 #probability \n",
    "\n",
    "N = 10000\n",
    "mu = 7\n",
    "sigma = np.sqrt(mu)\n",
    "\n",
    "B_1 = np.random.binomial(n_1, p_1, N)\n",
    "P = np.random.poisson(mu, N)\n",
    "\n",
    "count, bins, ignored = plt.hist(B_1, 30, density=True)\n",
    "count, bins, ignored = plt.hist(P, 30, density=True)\n",
    "blue_patch = mpatches.Patch(color='blue', label='Binomial p = 0.5, n= 14')\n",
    "orange_patch = mpatches.Patch(color='orange', label='Poisson dist with mu = 7')\n",
    "plt.legend(handles=[blue_patch, orange_patch])\n",
    "plt.savefig('B1vsP.png')\n",
    "plt.show()\n",
    "\n"
   ]
  },
  {
   "cell_type": "code",
   "execution_count": 28,
   "metadata": {},
   "outputs": [
    {
     "data": {
      "image/png": "[encoded data removed]",
      "text/plain": [
       "<Figure size 432x288 with 1 Axes>"
      ]
     },
     "metadata": {
      "needs_background": "light"
     },
     "output_type": "display_data"
    }
   ],
   "source": [
    "import matplotlib.pyplot as plt\n",
    "import numpy as np\n",
    "import matplotlib.patches as mpatches\n",
    "\n",
    "\n",
    "n_2 = 1400 #number of trials\n",
    "p_2 = 0.005 #probability\n",
    "\n",
    "N = 10000\n",
    "mu = 7\n",
    "sigma = np.sqrt(mu)\n",
    "\n",
    "B_2 = np.random.binomial(n_2, p_2, N)\n",
    "P = np.random.poisson(mu, N)\n",
    "\n",
    "count, bins, ignored = plt.hist(B_2, 30, density=True)\n",
    "count, bins, ignored = plt.hist(P, 30, density=True)\n",
    "blue_patch = mpatches.Patch(color='blue', label='Binomial p = 0.005, n= 1400')\n",
    "orange_patch = mpatches.Patch(color='orange', label='Poisson dist with mu = 7')\n",
    "plt.legend(handles=[blue_patch, orange_patch])\n",
    "plt.savefig('B2vsP.png')\n",
    "plt.show()\n",
    "\n"
   ]
  },
  {
   "cell_type": "markdown",
   "metadata": {},
   "source": [
    "As we can see the second binomial distribution with p = 0.005 and n = 1400 resembles the poisson distribution more. "
   ]
  },
  {
   "cell_type": "code",
   "execution_count": null,
   "metadata": {},
   "outputs": [],
   "source": []
  }
 ],
 "metadata": {
  "kernelspec": {
   "display_name": "Python 3",
   "language": "python",
   "name": "python3"
  },
  "language_info": {
   "codemirror_mode": {
    "name": "ipython",
    "version": 3
   },
   "file_extension": ".py",
   "mimetype": "text/x-python",
   "name": "python",
   "nbconvert_exporter": "python",
   "pygments_lexer": "ipython3",
   "version": "3.7.6"
  }
 },
 "nbformat": 4,
 "nbformat_minor": 4
}
