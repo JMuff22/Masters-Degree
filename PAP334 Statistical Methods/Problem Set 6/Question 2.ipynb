{
 "cells": [
  {
   "cell_type": "markdown",
   "metadata": {},
   "source": [
    "# Question 2"
   ]
  },
  {
   "cell_type": "markdown",
   "metadata": {},
   "source": [
    "For this question I simply used the equations given in the question/lecture notes. As the tbale is small I inputted the data manually. The degrees of freedom between the samples was calculated from (r-1)=2 as the number of samples was 3. The degrees of freedom within the samples is N-3=267. The P value was calculated from the online applet linked below. "
   ]
  },
  {
   "cell_type": "code",
   "execution_count": 18,
   "metadata": {},
   "outputs": [
    {
     "name": "stdout",
     "output_type": "stream",
     "text": [
      "Pre-test\n",
      "3.05\n",
      "SS_b = 0.666000\n",
      "SS_w =387.150000\n",
      "F=0.229655\n",
      "Dof-SS_b = 2, Dof-SS_w = 267, P value = 0.79496\n",
      "https://homepage.divms.uiowa.edu/~mbognar/applets/f.html\n"
     ]
    }
   ],
   "source": [
    "import numpy as np\n",
    "import matplotlib.pyplot as plt\n",
    "\n",
    "print('Pre-test')\n",
    "#init\n",
    "r = 3\n",
    "n_1 = 90\n",
    "n_2 =90\n",
    "n_3 =90\n",
    "N = n_1+n_2+n_3\n",
    "\n",
    "m = ((n_1*3.02)+(n_2*3.12)+(n_3*3.01))/N\n",
    "print(m)\n",
    "\n",
    "\n",
    "\n",
    "SS_b = n_1*(3.02-m)**2 + n_2*(3.12-m)**2+n_3*(3.01-m)**2\n",
    "print('SS_b = %f' %SS_b)\n",
    "SS_w = (n_1-1)* 1.54 + (n_2-1)*1.39+(n_3-1)*1.42 \n",
    "print('SS_w =%f'%SS_w)\n",
    "\n",
    "F = (SS_b/(r-1)) / (SS_w/(N-r))\n",
    "print('F=%f'%F)\n",
    "\n",
    "print('Dof-SS_b = 2, Dof-SS_w = 267, P value = 0.79496')\n",
    "print('https://homepage.divms.uiowa.edu/~mbognar/applets/f.html')\n",
    "\n"
   ]
  },
  {
   "cell_type": "markdown",
   "metadata": {},
   "source": [
    "As shown, the problem solving ability of the students before being exposed to anything was similar."
   ]
  },
  {
   "cell_type": "markdown",
   "metadata": {},
   "source": [
    "Part 2. The problem solving ability of the students after the test was not similar. "
   ]
  },
  {
   "cell_type": "code",
   "execution_count": 19,
   "metadata": {},
   "outputs": [
    {
     "name": "stdout",
     "output_type": "stream",
     "text": [
      "Post-test\n",
      "SS_b = 125.514000\n",
      "SS_w =246.530000\n",
      "F=67.967870\n",
      "Dof-SS_b = 2, Dof-SS_w = 267, P value = 0\n",
      "https://homepage.divms.uiowa.edu/~mbognar/applets/f.html\n"
     ]
    }
   ],
   "source": [
    "print('Post-test')\n",
    "m = ((n_1*4.85)+(n_2*3.72)+(n_3*3.22))/N\n",
    "\n",
    "SS_b = n_1*(4.85-m)**2 + n_2*(3.72-m)**2+n_3*(3.22-m)**2\n",
    "print('SS_b = %f' %SS_b)\n",
    "SS_w = (n_1-1)* 0.59 + (n_2-1)*0.97+(n_3-1)*1.21 \n",
    "print('SS_w =%f'%SS_w)\n",
    "\n",
    "F = (SS_b/(r-1)) / (SS_w/(N-r))\n",
    "print('F=%f'%F)\n",
    "\n",
    "print('Dof-SS_b = 2, Dof-SS_w = 267, P value = 0')\n",
    "print('https://homepage.divms.uiowa.edu/~mbognar/applets/f.html')\n"
   ]
  },
  {
   "cell_type": "code",
   "execution_count": 17,
   "metadata": {},
   "outputs": [
    {
     "name": "stdout",
     "output_type": "stream",
     "text": [
      "TDPS-SDPS: Diff= 1.130000 Scheffe=0.324077\n",
      "TDPS-TL: Diff= 1.630000 Scheffe=0.348115\n",
      "TL-SDPS: Diff= 0.500000 Scheffe=0.383102\n"
     ]
    }
   ],
   "source": [
    "from scipy.stats import f\n",
    "\n",
    "mean_var_1 = np.mean([0.59,0.97])\n",
    "mean_var_2= np.mean([0.59,1.21])\n",
    "mean_var_3=np.mean([1.21,0.97])\n",
    "F_1 = f.isf(0.05,2,267)\n",
    "\n",
    "Scheffe_TS = np.sqrt((r-1)*F_1*mean_var_1*(1/90+1/90)) #between TDPS and SDPS\n",
    "Scheffe_TL = np.sqrt((r-1)*F_1*mean_var_2*(1/90+1/90)) #between TDPS and TL\n",
    "Scheffe_LS = np.sqrt((r-1)*F_1*mean_var_3*(1/90+1/90)) #between TL and SDPS\n",
    "\n",
    "Diff_TS = np.abs(4.85-3.72)\n",
    "Diff_TL = np.abs(4.85-3.22)\n",
    "Diff_LS = np.abs(3.22-3.72)\n",
    "\n",
    "print('TDPS-SDPS: Diff= %f Scheffe=%f' %(Diff_TS, Scheffe_TS))\n",
    "print('TDPS-TL: Diff= %f Scheffe=%f' %(Diff_TL, Scheffe_TL))\n",
    "print('TL-SDPS: Diff= %f Scheffe=%f' %(Diff_LS, Scheffe_LS))"
   ]
  },
  {
   "cell_type": "markdown",
   "metadata": {},
   "source": [
    "Part 3. The post hoc Scheffe test shows us that between TDPS and SDPS and between TDPS and TL are statistically significant as they are larger than their Scheffe test counterparts, whereas between TL and SDPS they are not. So we can say that comparing teaching methods between TDPS and SDPS and TL are sigificant (however this doesn't necesserily allow us to conclude than TDPS is better than SDPS or TL).Between TL and SDPS the teaching methods are insigificant. \n",
    "\n",
    "Using the Scheffe test we can determine which comparisons are worth looking at."
   ]
  },
  {
   "cell_type": "code",
   "execution_count": null,
   "metadata": {},
   "outputs": [],
   "source": []
  },
  {
   "cell_type": "code",
   "execution_count": null,
   "metadata": {},
   "outputs": [],
   "source": []
  },
  {
   "cell_type": "code",
   "execution_count": null,
   "metadata": {},
   "outputs": [],
   "source": []
  }
 ],
 "metadata": {
  "kernelspec": {
   "display_name": "Python 3",
   "language": "python",
   "name": "python3"
  },
  "language_info": {
   "codemirror_mode": {
    "name": "ipython",
    "version": 3
   },
   "file_extension": ".py",
   "mimetype": "text/x-python",
   "name": "python",
   "nbconvert_exporter": "python",
   "pygments_lexer": "ipython3",
   "version": "3.7.6"
  }
 },
 "nbformat": 4,
 "nbformat_minor": 4
}
