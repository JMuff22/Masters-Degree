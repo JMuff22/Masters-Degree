{
 "cells": [
  {
   "cell_type": "markdown",
   "metadata": {},
   "source": [
    "## Statistical Methods Exercise 8"
   ]
  },
  {
   "cell_type": "markdown",
   "metadata": {},
   "source": [
    "# Question 1"
   ]
  },
  {
   "cell_type": "code",
   "execution_count": 4,
   "metadata": {},
   "outputs": [
    {
     "name": "stdout",
     "output_type": "stream",
     "text": [
      "Fitted Params (LS Estimators) +- Std Dev \n",
      "theta 0  -0.11007189252827576 +- 5.409667670734082\n",
      "theta 1  0.028722479458162715 +- 0.004233687707621312\n",
      "\n",
      "Variance in LS Estimators up to order: 3\n",
      "theta 0  variance 29.264504307785515\n",
      "theta 1  variance 1.7924111605663797e-05\n",
      "\n",
      "Chi square number and degrees of freedom\n",
      "chi2 =  0.006066143210509338 ,     ndof =  6\n",
      "Represents P value of 1.0\n",
      "\n",
      "Mean Specific Heat Capacity +- Variance\n",
      "4177.912292523092 +- 29.264504307785515\n",
      "4195.213753721353\n"
     ]
    },
    {
     "data": {
      "image/png": "[encoded data removed]",
      "text/plain": [
       "<Figure size 432x288 with 1 Axes>"
      ]
     },
     "metadata": {
      "needs_background": "light"
     },
     "output_type": "display_data"
    }
   ],
   "source": [
    "import matplotlib\n",
    "import matplotlib.pyplot as plt\n",
    "import numpy as np\n",
    "from scipy.optimize import curve_fit\n",
    "\n",
    "numParams = 2 #number of parameters\n",
    "\n",
    "y   = np.array([10,19.7,30.2,40.4, 49.9, 60.5, 70.4, 80.0])\n",
    "x   = np.array([352, 701, 1048, 1398, 1751, 2099, 2446, 2805])\n",
    "sigma = np.array([5,9,9,9,9,15,15,15])\n",
    "x0 = np.array(numParams*[1.0]) #initial guess\n",
    "\n",
    "U = 12 #volts\n",
    "I = 10 #amps\n",
    "m=1.0 #1000g = 1kg\n",
    "E = np.zeros(len(x))\n",
    "C_abs = np.zeros(len(x))\n",
    "\n",
    "for i in range(0,len(x)):\n",
    "    E[i] = U * I * x[i]\n",
    "    C_abs[i] = E[i]/(m*y[i])\n",
    "    \n",
    "def fit_func(x, *theta):\n",
    "    m = len(theta)\n",
    "    f = 0\n",
    "    for i in range(m):\n",
    "        f += theta[i]*pow(x,i)\n",
    "    return f\n",
    "\n",
    "\n",
    "\n",
    "\n",
    "\n",
    "#Use curve_fit to produce estimators and covariance matrix\n",
    "thetaEst, cov = curve_fit(fit_func, x, y, x0, sigma, absolute_sigma=True) \n",
    "\n",
    "#Find min chi squared value\n",
    "ndof = len(x) - numParams #number degrees of freedom = number of points (len(x)) - number of params\n",
    "chi2 = np.sum(((y - fit_func(x, *thetaEst))/sigma)**2)\n",
    "\n",
    "\n",
    "sigmathetaEst = np.sqrt(np.diag(cov)) #std dev\n",
    "varthetaEst = np.diag(cov) #variance\n",
    "\n",
    "print(\"Fitted Params (LS Estimators) +- Std Dev \")\n",
    "for i in range(len(thetaEst)):\n",
    "    print(\"theta\",i,\"\",thetaEst[i], \"+-\", sigmathetaEst[i])\n",
    "    #print(\"Variance in LS Estimators:\", varthetaEst)\n",
    "\n",
    "print(\"\")\n",
    "\n",
    "print(\"Variance in LS Estimators up to order:\",3)\n",
    "for i in range(len(thetaEst)):\n",
    "    print(\"theta\",i,\" variance\",varthetaEst[i])\n",
    "print(\"\")\n",
    "print(\"Chi square number and degrees of freedom\")\n",
    "print(\"chi2 = \", chi2, \",     ndof = \", ndof)\n",
    "print(\"Represents P value of 1.0\")\n",
    "print(\"\")\n",
    "\n",
    "C =U*I/ thetaEst[1]*1.0\n",
    "print(\"Mean Specific Heat Capacity +- Variance\")\n",
    "print(C, \"+-\", varthetaEst[0])\n",
    "print(np.mean(C_abs))\n",
    "\n",
    "#PLOTTING\n",
    "fig, ax = plt.subplots(1,1)\n",
    "plt.gcf().subplots_adjust(bottom=0.15)\n",
    "plt.gcf().subplots_adjust(left=0.15)\n",
    "plt.errorbar(x, y, yerr=sigma, xerr=0, color='black', fmt='o', label='data')\n",
    "plt.xlabel(\"x\")\n",
    "plt.ylabel(\"y\")\n",
    "xMin = 0\n",
    "xMax = 3000\n",
    "yMin = 0\n",
    "yMax = 100\n",
    "plt.xlim(xMin, xMax)\n",
    "plt.ylim(yMin, yMax)\n",
    "xPlot = np.linspace(xMin, xMax, 100)\n",
    "fit = fit_func(xPlot, *thetaEst)\n",
    "plt.plot(xPlot, fit, 'red', label='fit result')\n",
    "\n",
    "handles, labels = ax.get_legend_handles_labels()\n",
    "handles = [handles[1], handles[0]]\n",
    "labels = [labels[1], labels[0]]\n",
    "handles = [handles[0][0], handles[1]]      # turn off error bar for data in legend\n",
    "plt.legend(handles, labels, loc='upper left')\n",
    "\n",
    "# Make and store plot\n",
    "plt.show()"
   ]
  },
  {
   "cell_type": "markdown",
   "metadata": {},
   "source": [
    "The P Value from (https://homepage.divms.uiowa.edu/~mbognar/applets/chisq.html) with $v = ndof = 8-2 =6$\n",
    "$$ P =~1.0 $$\n",
    "Code Overview: This code uses scipy curve_fit to calculated the fitting parameters (theta hat 1 and 2) to a given function with the x data and y data with sigma_y. The function used was adapted from the scipy documentation and is the general fit for a polynomial \n",
    "$$ f(x,\\theta) = \\sum_{i=0}^{numParams} \\theta_i x^i $$\n",
    "So that depends on what polynomial we want to fit our data to we can and to a lesser extent how accurate we want our curve fitting to be. In this case the number of parameters is 2 and the curve is fitted to a 1st order polynomial or a linear line. The covariance matrix from the curve_fit function has diagonal values for the variance which is used in the overall uncertainty in the specific heat capacity. This can only be done because $U,I,m$ are considered to be constant and have no associated error.\n",
    "$$y = a + bx $$\n",
    "$$ b = \\hat{\\theta}_1 $$\n",
    "$$ C = \\frac{U \\cdot I}{\\hat{\\theta}_1 \\cdot m} $$"
   ]
  },
  {
   "cell_type": "markdown",
   "metadata": {},
   "source": [
    "For part ii I did not fully understand the question. The bias is clearly 0 for the estimates but taking the derivative to a constant would just render the RCF useless so I am misunderstanding something here.\n"
   ]
  },
  {
   "cell_type": "markdown",
   "metadata": {},
   "source": [
    "Based on these results I can say that the uncertainies are overestimated as the P value is large and \n",
    "$$ \\frac{\\chi^2}{n_{dof}} << 1$$"
   ]
  },
  {
   "cell_type": "markdown",
   "metadata": {},
   "source": [
    "# Question 2"
   ]
  },
  {
   "cell_type": "markdown",
   "metadata": {},
   "source": [
    "This question used similar code to the previous but now the fitting function is\n",
    "$$ y = \\alpha_1 x + \\frac{\\alpha_2}{x} $$"
   ]
  },
  {
   "cell_type": "code",
   "execution_count": 2,
   "metadata": {},
   "outputs": [
    {
     "name": "stdout",
     "output_type": "stream",
     "text": [
      "Fitted Params (LS Estimators) +- Std Dev \n",
      "theta 0  0.000989996665312409 +- 3.873100910854876e-05\n",
      "theta 1  589395.6421503826 +- 22888.053781197832\n",
      "\n",
      "Variance in LS Estimators up to order: 3\n",
      "theta 0  variance 1.500091066566487e-09\n",
      "theta 1  variance 523863005.89100444\n",
      "\n",
      "Chi square number and degrees of freedom\n",
      "chi2 =  10.063205637121253 ,     ndof =  3\n",
      "\n",
      "alpha_1 = 0.000989996665312409 +- 1.500091066566487e-09\n",
      "alpha_2 = 589395.6421503826 +- 523863005.89100444\n",
      "R = 84.83265980314567 +- 75413.20101262095\n",
      "L= 0.08398405031469626 +- 74.65881981712383\n"
     ]
    },
    {
     "data": {
      "image/png": "[encoded data removed]",
      "text/plain": [
       "<Figure size 432x288 with 1 Axes>"
      ]
     },
     "metadata": {
      "needs_background": "light"
     },
     "output_type": "display_data"
    }
   ],
   "source": [
    "import matplotlib\n",
    "import matplotlib.pyplot as plt\n",
    "import numpy as np\n",
    "from scipy.optimize import curve_fit\n",
    "\n",
    "numParams = 2 #number of parameters\n",
    "\n",
    "# set data values\n",
    "y   = np.array([-4.02,-2.74,-1.15,1.49, 6.87]) #y in table\n",
    "x   = np.array([22000, 22930, 23880, 25130, 26390]) #x in table\n",
    "sigma = np.array([0.5,0.25,0.08,0.09,1.90])\n",
    "x0 = np.array(numParams*[1.0])\n",
    "\n",
    "C = 0.02e-6\n",
    "w_0 = 1 #rad/s\n",
    "    \n",
    "def fit_func(x,a,b):\n",
    "    return a*x - b/x\n",
    "\n",
    "\n",
    "\n",
    "#Use curve_fit to produce estimators and covariance matrix\n",
    "thetaEst, cov = curve_fit(fit_func, x, y, x0, sigma, absolute_sigma=True) \n",
    "\n",
    "#Find min chi squared value\n",
    "ndof = len(x) - numParams #number degrees of freedom = number of points (len(x)) - number of params\n",
    "chi2 = np.sum(((y - fit_func(x, *thetaEst))/sigma)**2)\n",
    "\n",
    "\n",
    "sigmathetaEst = np.sqrt(np.diag(cov)) #std dev\n",
    "varthetaEst = np.diag(cov) #variance\n",
    "\n",
    "print(\"Fitted Params (LS Estimators) +- Std Dev \")\n",
    "for i in range(len(thetaEst)):\n",
    "    print(\"theta\",i,\"\",thetaEst[i], \"+-\", sigmathetaEst[i])\n",
    "    #print(\"Variance in LS Estimators:\", varthetaEst)\n",
    "\n",
    "print(\"\")\n",
    "\n",
    "print(\"Variance in LS Estimators up to order:\",3)\n",
    "for i in range(len(thetaEst)):\n",
    "    print(\"theta\",i,\" variance\",varthetaEst[i])\n",
    "print(\"\")\n",
    "print(\"Chi square number and degrees of freedom\")\n",
    "print(\"chi2 = \", chi2, \",     ndof = \", ndof)\n",
    "print(\"\")\n",
    "\n",
    "print(\"alpha_1 =\", thetaEst[0] ,\"+-\", varthetaEst[0])\n",
    "print(\"alpha_2 =\", thetaEst[1] ,\"+-\", varthetaEst[1])\n",
    "R = 1.0/(thetaEst[1]*C*w_0)\n",
    "print(\"R =\",R , \"+-\", 75413.20101262095)\n",
    "L = (thetaEst[0]*R)/(w_0)\n",
    "print(\"L=\", L, \"+-\", 74.65881981712383)\n",
    "\n",
    "#PLOTTING\n",
    "fig, ax = plt.subplots(1,1)\n",
    "plt.gcf().subplots_adjust(bottom=0.15)\n",
    "plt.gcf().subplots_adjust(left=0.15)\n",
    "plt.errorbar(x, y, yerr=sigma, xerr=0, color='black', fmt='o', label='data')\n",
    "plt.xlabel(\"x\")\n",
    "plt.ylabel(\"y\")\n",
    "xMin = 20000\n",
    "xMax = 30000\n",
    "yMin = -10\n",
    "yMax = 10\n",
    "plt.xlim(xMin, xMax)\n",
    "plt.ylim(yMin, yMax)\n",
    "xPlot = np.linspace(xMin, xMax, 100)\n",
    "fit = fit_func(xPlot, *thetaEst)\n",
    "plt.plot(xPlot, fit, 'red', label='fit result')\n",
    "\n",
    "handles, labels = ax.get_legend_handles_labels()\n",
    "handles = [handles[1], handles[0]]\n",
    "labels = [labels[1], labels[0]]\n",
    "handles = [handles[0][0], handles[1]]      # turn off error bar for data in legend\n",
    "plt.legend(handles, labels, loc='upper left')\n",
    "\n",
    "# Make and store plot\n",
    "plt.show()"
   ]
  },
  {
   "cell_type": "markdown",
   "metadata": {},
   "source": [
    "Above shows the calculated $\\alpha_1$ and $\\alpha_2$ values with associated error. The uncertainties in them are massive. Error propagation was used from http://www.julianibus.de/. \n",
    "$$ \\chi^2 = 10.06 $$\n",
    "$$ P = 0.01804 $$\n",
    "From the previously linked web applet. "
   ]
  },
  {
   "cell_type": "markdown",
   "metadata": {},
   "source": [
    "I was unsure of how to implement a second set of uncertainties in this method. In the Exercise notes it mentions adding them onto the chi square number, this wouldn't change the alphas though only the chi squared number and therefore the P value?"
   ]
  },
  {
   "cell_type": "code",
   "execution_count": null,
   "metadata": {},
   "outputs": [],
   "source": []
  }
 ],
 "metadata": {
  "kernelspec": {
   "display_name": "Python 3",
   "language": "python",
   "name": "python3"
  },
  "language_info": {
   "codemirror_mode": {
    "name": "ipython",
    "version": 3
   },
   "file_extension": ".py",
   "mimetype": "text/x-python",
   "name": "python",
   "nbconvert_exporter": "python",
   "pygments_lexer": "ipython3",
   "version": "3.7.6"
  }
 },
 "nbformat": 4,
 "nbformat_minor": 4
}
