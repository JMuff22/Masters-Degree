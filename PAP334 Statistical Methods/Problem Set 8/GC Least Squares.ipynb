{
 "cells": [
  {
   "cell_type": "code",
   "execution_count": 104,
   "metadata": {},
   "outputs": [
    {
     "name": "stdout",
     "output_type": "stream",
     "text": [
      "[4224.         4270.05076142 4164.2384106  4152.47524752 4210.82164329\n",
      " 4163.30578512 4169.31818182 4207.5       ]\n"
     ]
    }
   ],
   "source": [
    "import numpy as np\n",
    "import matplotlib.pyplot as plt\n",
    "\n",
    "\n",
    "def normalize(x,sigma_x):\n",
    "    norm = np.sum(1/sigma_x**2)\n",
    "    return x / (sigma_x**2 * norm)\n",
    "\n",
    "def theta1(x,y,sigma_x):\n",
    "    x_norm = normalize(x,sigma_x)\n",
    "    return (np.mean(x_norm*y)-np.mean(x_norm)*np.mean(y))/(np.mean(x_norm**2)-np.mean(x_norm)**2)\n",
    "\n",
    "def theta1_1(x,y,sigma_x):\n",
    "    return (np.mean(x*y)-np.mean(x)*np.mean(y))/(np.mean(x**2)-np.mean(x)**2)\n",
    "\n",
    "def theta0(x,y,sigma_x,th1):\n",
    "    x_norm = normalize(x,sigma_x)\n",
    "    return np.mean(y)-th1*np.mean(x)\n",
    "\n",
    "    \n",
    "\n",
    "x = np.array([10,19.7,30.2,40.4, 49.9, 60.5, 70.4, 80.0]) #Delta T deg c\n",
    "y = np.array([352, 701, 1048, 1398, 1751, 2099, 2446, 2805]) #t (s)\n",
    "sigma_y = np.array([5,9,9,9,9,15,15,15])\n",
    "\n",
    "\n",
    "U = 12 #volts\n",
    "I = 10 #amps\n",
    "m=1 #1000g = 1kg\n",
    "E = np.zeros(len(y))\n",
    "C = np.zeros(len(y))\n",
    "\n",
    "for i in range(0,len(y)):\n",
    "    E[i] = U * I * y[i]\n",
    "    C[i] = E[i]/(m*x[i])\n",
    "\n",
    "th1 = theta1(y,x, sigma_y)\n",
    "th0 = theta0(y,x,sigma_y,th1)\n",
    "th1_1= theta1_1(y,x, sigma_y)\n",
    "\n",
    "\n",
    "V = np.var(y)\n",
    "newth1 = np.cov(y,x)[0,0]/V\n",
    "#print(\"np.cov(x,y)/Var(x):\", newth1)\n",
    "\n",
    "chi2 = 0\n",
    "\n",
    "for i in range(len(x)):\n",
    "    chi2 += (x[i] - th0-th1*y[i])**2/(sigma_y[i]**2)\n",
    "    \n",
    "#print(E)\n",
    "#print(C)\n",
    "#print(\"th1 (with norm_x):\", th1)\n",
    "#print(\"th0:\", th0)\n",
    "#print(\"th1_1 (without norm_x):\", th1_1)\n",
    "\n",
    "print(C)\n"
   ]
  },
  {
   "cell_type": "code",
   "execution_count": 106,
   "metadata": {},
   "outputs": [
    {
     "name": "stdout",
     "output_type": "stream",
     "text": [
      "[7.69625637e+01 2.71043542e-04 3.52991069e-11]\n",
      "chisq =  0.00545958590773831 ,     ndof =  5\n",
      "\n",
      " Fitted parameters and standard deviations and variance:\n",
      "thetaHat[ 0 ] =  -0.2801649709435504   +-   8.772830998186866   +-   76.96256372274834\n",
      "thetaHat[ 1 ] =  0.029114310481992815   +-   0.016463400064613193   +-   0.00027104354168750567\n",
      "thetaHat[ 2 ] =  -1.4632483669584918e-07   +-   5.941305148071933e-06   +-   3.5299106862506056e-11\n",
      "\n",
      " i, j, cov[i,j], rho[i,j]:\n",
      "0    0    76.96256372274834    0.9999999999999998\n",
      "0    1    -0.12858792083562984    -0.8903092371805678\n",
      "0    2    4.1032907999349865e-05    0.7872463846856621\n",
      "1    0    -0.1285879208356298    -0.8903092371805676\n",
      "1    1    0.00027104354168750567    1.0\n",
      "1    2    -9.452455059927985e-08    -0.9663695365769925\n",
      "2    0    4.1032907999349845e-05    0.7872463846856617\n",
      "2    1    -9.452455059927984e-08    -0.9663695365769924\n",
      "2    2    3.5299106862506056e-11    1.0\n",
      "4195.213753721353 76.96256372274834\n"
     ]
    },
    {
     "data": {
      "text/plain": [
       "<Figure size 432x288 with 0 Axes>"
      ]
     },
     "metadata": {},
     "output_type": "display_data"
    },
    {
     "data": {
      "image/png": "[encoded data removed]",
      "text/plain": [
       "<Figure size 432x288 with 1 Axes>"
      ]
     },
     "metadata": {
      "needs_background": "light"
     },
     "output_type": "display_data"
    },
    {
     "data": {
      "text/plain": [
       "<Figure size 432x288 with 0 Axes>"
      ]
     },
     "metadata": {},
     "output_type": "display_data"
    }
   ],
   "source": [
    "#  simpleFit.py\n",
    "#  G. Cowan / RHUL Physics / October 2017\n",
    "#  Simple program to illustrate least-squares fitting with curve_fit\n",
    "\n",
    "import matplotlib\n",
    "import matplotlib.pyplot as plt\n",
    "import numpy as np\n",
    "from scipy.optimize import curve_fit\n",
    "from scipy.stats import chisquare\n",
    "\n",
    "# set data values\n",
    "y   = np.array([10,19.7,30.2,40.4, 49.9, 60.5, 70.4, 80.0])\n",
    "x   = np.array([352, 701, 1048, 1398, 1751, 2099, 2446, 2805])\n",
    "sig = np.array([5,9,9,9,9,15,15,15])\n",
    "U = 12 #volts\n",
    "I = 10 #amps\n",
    "m=1 #1000g = 1kg\n",
    "E = np.zeros(len(x))\n",
    "C = np.zeros(len(x))\n",
    "\n",
    "for i in range(0,len(x)):\n",
    "    E[i] = U * I * x[i]\n",
    "    C[i] = E[i]/(m*y[i])\n",
    "\n",
    "\n",
    "\n",
    "# define fit function (order of polynomial set using numPar below).\n",
    "def func(x, *theta):\n",
    "    m = len(theta)\n",
    "    f = 0.0\n",
    "    for i in range(m):\n",
    "        f += theta[i]*pow(x,i)\n",
    "    return f\n",
    "\n",
    "# set default parameter values and do the fit\n",
    "numPar = 3                     # set number of parameters here\n",
    "p0 = np.array(numPar*[1.0])\n",
    "thetaHat, cov = curve_fit(func, x, y, p0, sig, absolute_sigma=True)\n",
    "\n",
    "print(np.diag(cov))\n",
    "# Retrieve minimized chi-squared, etc.\n",
    "numPoints = len(x)\n",
    "ndof = numPoints - numPar\n",
    "chisq = sum(((y - func(x, *thetaHat))/sig)**2)\n",
    "print(\"chisq = \", chisq, \",     ndof = \", ndof)\n",
    "\n",
    "# Print fit parameters and covariance matrix\n",
    "print( \"\\n\", \"Fitted parameters and standard deviations and variance:\")\n",
    "sigThetaHat = np.sqrt(np.diag(cov))\n",
    "varThetaHat = np.diag(cov)\n",
    "for i in range(len(thetaHat)):\n",
    "    print(\"thetaHat[\", i, \"] = \", thetaHat[i], \"  +-  \", sigThetaHat[i], \"  +-  \", varThetaHat[i])\n",
    "\n",
    "print( \"\\n\", \"i, j, cov[i,j], rho[i,j]:\")\n",
    "for i in range(len(thetaHat)):\n",
    "    for j in range(len(thetaHat)):\n",
    "        rho = cov[i][j] / (sigThetaHat[i]*sigThetaHat[j])\n",
    "        print( i, \"  \", j, \"  \", cov[i][j], \"  \", rho)\n",
    "\n",
    "        \n",
    "print(np.mean(C), varThetaHat[0])\n",
    "RCF = 1 \n",
    "# Set up plot\n",
    "matplotlib.rcParams.update({'font.size':18})     # set all font sizes\n",
    "plt.clf()\n",
    "fig, ax = plt.subplots(1,1)\n",
    "plt.gcf().subplots_adjust(bottom=0.15)\n",
    "plt.gcf().subplots_adjust(left=0.15)\n",
    "plt.errorbar(x, y, yerr=sig, xerr=0, color='black', fmt='o', label='data')\n",
    "plt.xlabel(r'$x$')\n",
    "plt.ylabel(r'$y$', labelpad=10)\n",
    "yMin = 0\n",
    "yMax = 100\n",
    "xMin = 0\n",
    "xMax = 3000\n",
    "plt.xlim(xMin, xMax)\n",
    "plt.ylim(yMin, yMax)\n",
    "xPlot = np.linspace(xMin, xMax, 100)        # enough points for a smooth curve\n",
    "fit = func(xPlot, *thetaHat)\n",
    "plt.plot(xPlot, fit, 'red', linewidth=2, label='fit result')\n",
    "\n",
    "# Tweak legend\n",
    "handles, labels = ax.get_legend_handles_labels()\n",
    "handles = [handles[1], handles[0]]\n",
    "labels = [labels[1], labels[0]]\n",
    "handles = [handles[0][0], handles[1]]      # turn off error bar for data in legend\n",
    "plt.legend(handles, labels, loc='upper right', fontsize=14, frameon=False)\n",
    "\n",
    "# Make and store plot\n",
    "plt.show()\n",
    "plt.savefig(\"simpleFit.pdf\", format='pdf')"
   ]
  },
  {
   "cell_type": "code",
   "execution_count": null,
   "metadata": {},
   "outputs": [],
   "source": []
  },
  {
   "cell_type": "code",
   "execution_count": 108,
   "metadata": {},
   "outputs": [
    {
     "name": "stdout",
     "output_type": "stream",
     "text": [
      "[[ 0.2111863  -0.06460345]\n",
      " [-0.06460345  0.02341046]]\n",
      "chisq =  2.2955730908118235 ,     ndof =  3\n",
      "\n",
      " Fitted parameters and standard deviations:\n",
      "thetaHat[ 0 ] =  1.1620658858075859   +-   0.4595501040494243\n",
      "thetaHat[ 1 ] =  0.6139449886560666   +-   0.15300476489410003\n",
      "\n",
      " i, j, cov[i,j], rho[i,j]:\n",
      "0    0    0.2111862981318367    1.0\n",
      "0    1    -0.06460344845942156    -0.9187934195887566\n",
      "1    0    -0.06460344845942156    -0.9187934195887566\n",
      "1    1    0.023410458080298825    1.0\n"
     ]
    },
    {
     "data": {
      "text/plain": [
       "<matplotlib.legend.Legend at 0x7fc68c28a410>"
      ]
     },
     "execution_count": 108,
     "metadata": {},
     "output_type": "execute_result"
    },
    {
     "data": {
      "text/plain": [
       "<Figure size 432x288 with 0 Axes>"
      ]
     },
     "metadata": {},
     "output_type": "display_data"
    },
    {
     "data": {
      "image/png": "[encoded data removed]",
      "text/plain": [
       "<Figure size 432x288 with 1 Axes>"
      ]
     },
     "metadata": {
      "needs_background": "light"
     },
     "output_type": "display_data"
    }
   ],
   "source": [
    "#  simpleFit.py\n",
    "#  G. Cowan / RHUL Physics / October 2017\n",
    "#  Simple program to illustrate least-squares fitting with curve_fit\n",
    "\n",
    "import matplotlib\n",
    "import matplotlib.pyplot as plt\n",
    "import numpy as np\n",
    "from scipy.optimize import curve_fit\n",
    "\n",
    "# set data values\n",
    "x   = np.array([1.0, 2.0, 3.0, 4.0, 5.0])\n",
    "y   = np.array([1.7, 2.3, 3.5, 3.3, 4.3])\n",
    "sig = np.array([0.5, 0.3, 0.4, 0.4, 0.6])\n",
    "\n",
    "# define fit function (order of polynomial set using numPar below).\n",
    "def func(x, *theta):\n",
    "    m = len(theta)\n",
    "    f = 0.0\n",
    "    for i in range(m):\n",
    "        f += theta[i]*pow(x,i)\n",
    "    return f\n",
    "\n",
    "# set default parameter values and do the fit\n",
    "numPar = 2                     # set number of parameters here\n",
    "p0 = np.array(numPar*[1.0])\n",
    "thetaHat, cov = curve_fit(func, x, y, p0, sig, absolute_sigma=True)\n",
    "\n",
    "print(cov)\n",
    "# Retrieve minimized chi-squared, etc.\n",
    "numPoints = len(x)\n",
    "ndof = numPoints - numPar\n",
    "chisq = sum(((y - func(x, *thetaHat))/sig)**2)\n",
    "print(\"chisq = \", chisq, \",     ndof = \", ndof)\n",
    "\n",
    "# Print fit parameters and covariance matrix\n",
    "print( \"\\n\", \"Fitted parameters and standard deviations:\")\n",
    "sigThetaHat = np.sqrt(np.diag(cov))\n",
    "for i in range(len(thetaHat)):\n",
    "    print(\"thetaHat[\", i, \"] = \", thetaHat[i], \"  +-  \", sigThetaHat[i])\n",
    "\n",
    "print( \"\\n\", \"i, j, cov[i,j], rho[i,j]:\")\n",
    "for i in range(len(thetaHat)):\n",
    "    for j in range(len(thetaHat)):\n",
    "        rho = cov[i][j] / (sigThetaHat[i]*sigThetaHat[j])\n",
    "        print( i, \"  \", j, \"  \", cov[i][j], \"  \", rho)\n",
    "\n",
    "# Set up plot\n",
    "matplotlib.rcParams.update({'font.size':18})     # set all font sizes\n",
    "plt.clf()\n",
    "fig, ax = plt.subplots(1,1)\n",
    "plt.gcf().subplots_adjust(bottom=0.15)\n",
    "plt.gcf().subplots_adjust(left=0.15)\n",
    "plt.errorbar(x, y, yerr=sig, xerr=0, color='black', fmt='o', label='data')\n",
    "plt.xlabel(r'$x$')\n",
    "plt.ylabel(r'$y$', labelpad=10)\n",
    "xMin = 0\n",
    "xMax = 10\n",
    "yMin = 0\n",
    "yMax = 5\n",
    "plt.xlim(xMin, xMax)\n",
    "plt.ylim(yMin, yMax)\n",
    "xPlot = np.linspace(xMin, xMax, 100)        # enough points for a smooth curve\n",
    "fit = func(xPlot, *thetaHat)\n",
    "plt.plot(xPlot, fit, 'red', linewidth=2, label='fit result')\n",
    "\n",
    "# Tweak legend\n",
    "handles, labels = ax.get_legend_handles_labels()\n",
    "handles = [handles[1], handles[0]]\n",
    "labels = [labels[1], labels[0]]\n",
    "handles = [handles[0][0], handles[1]]      # turn off error bar for data in legend\n",
    "plt.legend(handles, labels, loc='upper right', fontsize=14, frameon=False)\n",
    "\n",
    "# Make and store plot\n",
    "#plt.show()\n",
    "#plt.savefig(\"simpleFit.pdf\", format='pdf')"
   ]
  },
  {
   "cell_type": "code",
   "execution_count": null,
   "metadata": {},
   "outputs": [],
   "source": []
  },
  {
   "cell_type": "code",
   "execution_count": null,
   "metadata": {},
   "outputs": [],
   "source": []
  }
 ],
 "metadata": {
  "kernelspec": {
   "display_name": "Python 3",
   "language": "python",
   "name": "python3"
  },
  "language_info": {
   "codemirror_mode": {
    "name": "ipython",
    "version": 3
   },
   "file_extension": ".py",
   "mimetype": "text/x-python",
   "name": "python",
   "nbconvert_exporter": "python",
   "pygments_lexer": "ipython3",
   "version": "3.7.6"
  }
 },
 "nbformat": 4,
 "nbformat_minor": 4
}
