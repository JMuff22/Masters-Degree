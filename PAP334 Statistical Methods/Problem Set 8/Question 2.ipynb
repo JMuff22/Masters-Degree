{
 "cells": [
  {
   "cell_type": "code",
   "execution_count": 24,
   "metadata": {},
   "outputs": [
    {
     "name": "stdout",
     "output_type": "stream",
     "text": [
      "[1.50009087e-09 5.23862951e+08]\n",
      "chisq =  10.063205637121342 ,     ndof =  3\n",
      "\n",
      " Fitted parameters and standard deviations and variance:\n",
      "thetaHat[ 0 ] =  0.0009899966696088147   +-   3.8731006591282505e-05   +-   1.5000908715739689e-09\n",
      "thetaHat[ 1 ] =  -589395.6446954239   +-   22888.052572658446   +-   523862950.56877697\n",
      "\n",
      " i, j, cov[i,j], rho[i,j]:\n",
      "0    0    1.5000908715739689e-09    1.0\n",
      "0    1    -0.8848121252911342    -0.998121565285604\n",
      "1    0    -0.8848121252911342    -0.998121565285604\n",
      "1    1    523862950.56877697    1.0000000000000002\n"
     ]
    },
    {
     "data": {
      "text/plain": [
       "<Figure size 432x288 with 0 Axes>"
      ]
     },
     "metadata": {},
     "output_type": "display_data"
    },
    {
     "data": {
      "image/png": "[encoded data removed]",
      "text/plain": [
       "<Figure size 432x288 with 1 Axes>"
      ]
     },
     "metadata": {
      "needs_background": "light"
     },
     "output_type": "display_data"
    },
    {
     "data": {
      "text/plain": [
       "<Figure size 432x288 with 0 Axes>"
      ]
     },
     "metadata": {},
     "output_type": "display_data"
    }
   ],
   "source": [
    "#  simpleFit.py\n",
    "#  G. Cowan / RHUL Physics / October 2017\n",
    "#  Simple program to illustrate least-squares fitting with curve_fit\n",
    "\n",
    "import matplotlib\n",
    "import matplotlib.pyplot as plt\n",
    "import numpy as np\n",
    "from scipy.optimize import curve_fit\n",
    "from scipy.stats import chisquare\n",
    "\n",
    "# set data values\n",
    "y   = np.array([-4.02,-2.74,-1.15,1.49, 6.87]) #y in table\n",
    "x   = np.array([22000, 22930, 23880, 25130, 26390]) #x in table\n",
    "sigma = np.array([0.5,0.25,0.08,0.09,1.90])\n",
    "x0 = np.array(numPar*[1.0])\n",
    "\n",
    "\n",
    "# define fit function (order of polynomial set using numPar below).\n",
    "def func(x,a,b):\n",
    "    return a*x + b/x\n",
    "# set default parameter values and do the fit\n",
    "numPar = 2                     # set number of parameters here\n",
    "\n",
    "thetaHat, cov = curve_fit(func, x, y, x0, sigma, absolute_sigma=True)\n",
    "\n",
    "print(np.diag(cov))\n",
    "# Retrieve minimized chi-squared, etc.\n",
    "numPoints = len(x)\n",
    "ndof = numPoints - numPar\n",
    "chisq = sum(((y - func(x, *thetaHat))/sig)**2)\n",
    "print(\"chisq = \", chisq, \",     ndof = \", ndof)\n",
    "\n",
    "# Print fit parameters and covariance matrix\n",
    "print( \"\\n\", \"Fitted parameters and standard deviations and variance:\")\n",
    "sigThetaHat = np.sqrt(np.diag(cov))\n",
    "varThetaHat = np.diag(cov)\n",
    "for i in range(len(thetaHat)):\n",
    "    print(\"thetaHat[\", i, \"] = \", thetaHat[i], \"  +-  \", sigThetaHat[i], \"  +-  \", varThetaHat[i])\n",
    "\n",
    "print( \"\\n\", \"i, j, cov[i,j], rho[i,j]:\")\n",
    "for i in range(len(thetaHat)):\n",
    "    for j in range(len(thetaHat)):\n",
    "        rho = cov[i][j] / (sigThetaHat[i]*sigThetaHat[j])\n",
    "        print( i, \"  \", j, \"  \", cov[i][j], \"  \", rho)\n",
    "\n",
    "        \n",
    "# Set up plot\n",
    "matplotlib.rcParams.update({'font.size':18})     # set all font sizes\n",
    "plt.clf()\n",
    "fig, ax = plt.subplots(1,1)\n",
    "plt.gcf().subplots_adjust(bottom=0.15)\n",
    "plt.gcf().subplots_adjust(left=0.15)\n",
    "plt.errorbar(x, y, yerr=sig, xerr=0, color='black', fmt='o', label='data')\n",
    "plt.xlabel(r'$x$')\n",
    "plt.ylabel(r'$y$', labelpad=10)\n",
    "xMin = 20000\n",
    "xMax = 30000\n",
    "yMin = -10\n",
    "yMax = 10\n",
    "plt.xlim(xMin, xMax)\n",
    "plt.ylim(yMin, yMax)\n",
    "xPlot = np.linspace(xMin, xMax, 100)        # enough points for a smooth curve\n",
    "fit = func(xPlot, *thetaHat)\n",
    "plt.plot(xPlot, fit, 'red', linewidth=2, label='fit result')\n",
    "\n",
    "# Tweak legend\n",
    "handles, labels = ax.get_legend_handles_labels()\n",
    "handles = [handles[1], handles[0]]\n",
    "labels = [labels[1], labels[0]]\n",
    "handles = [handles[0][0], handles[1]]      # turn off error bar for data in legend\n",
    "plt.legend(handles, labels, loc='upper right', fontsize=14, frameon=False)\n",
    "\n",
    "# Make and store plot\n",
    "plt.show()\n",
    "plt.savefig(\"q2.pdf\", format='pdf')"
   ]
  },
  {
   "cell_type": "code",
   "execution_count": null,
   "metadata": {},
   "outputs": [],
   "source": []
  }
 ],
 "metadata": {
  "kernelspec": {
   "display_name": "Python 3",
   "language": "python",
   "name": "python3"
  },
  "language_info": {
   "codemirror_mode": {
    "name": "ipython",
    "version": 3
   },
   "file_extension": ".py",
   "mimetype": "text/x-python",
   "name": "python",
   "nbconvert_exporter": "python",
   "pygments_lexer": "ipython3",
   "version": "3.7.6"
  }
 },
 "nbformat": 4,
 "nbformat_minor": 4
}
