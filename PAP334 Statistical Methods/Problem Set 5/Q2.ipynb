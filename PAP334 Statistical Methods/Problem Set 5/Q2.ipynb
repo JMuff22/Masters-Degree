{
 "cells": [
  {
   "cell_type": "markdown",
   "metadata": {},
   "source": [
    "## Question 2: Kolmogorov-Smirnov Test"
   ]
  },
  {
   "cell_type": "markdown",
   "metadata": {},
   "source": []
  },
  {
   "cell_type": "code",
   "execution_count": 204,
   "metadata": {
    "scrolled": true
   },
   "outputs": [
    {
     "name": "stdout",
     "output_type": "stream",
     "text": [
      "Ks_2sampResult(statistic=0.2916666666666667, pvalue=0.7432404540763674)\n",
      "KS Distance: 0.291667\n",
      "P_KS: 0.808819\n",
      "KS Distance for angular dist: 0.575142\n",
      "P_KS for angular dist: 0.000004\n"
     ]
    },
    {
     "data": {
      "text/plain": [
       "Text(0, 0.5, 'Probability')"
      ]
     },
     "execution_count": 204,
     "metadata": {},
     "output_type": "execute_result"
    },
    {
     "data": {
      "image/png": "[encoded data removed]",
      "text/plain": [
       "<Figure size 432x288 with 1 Axes>"
      ]
     },
     "metadata": {
      "needs_background": "light"
     },
     "output_type": "display_data"
    }
   ],
   "source": [
    "import numpy as np\n",
    "import pandas as pd\n",
    "import matplotlib.pyplot as plt\n",
    "from scipy import stats\n",
    "from scipy.stats import norm\n",
    "from scipy.interpolate import interp1d\n",
    "from scipy import optimize\n",
    "from scipy.special import kolmogorov\n",
    "from scipy.stats import kstwobign\n",
    "import matplotlib.patches as mpatches\n",
    "\n",
    "Data1 = [80, 44, 56, 65, 33, 52, 42, 104]\n",
    "Data2 = [18, 40, 108, 70, 135, 68, 32, 30, 38, 122, 49, 91]\n",
    "Data3 = Data1+Data2\n",
    "\n",
    "test = []\n",
    "for x in range(181):\n",
    "    test.append(x)\n",
    "    \n",
    "\n",
    "Data1_sorted = np.sort(Data1)\n",
    "Data2_sorted = np.sort(Data2)\n",
    "Data3_sorted = np.sort(Data3)\n",
    "\n",
    "\n",
    "#stats.kstest(Data1, 'norm')\n",
    "kst = stats.ks_2samp(Data1, Data2)\n",
    "print(kst)\n",
    "\n",
    "#print(np.sort(Data1))\n",
    "#DataY1 = np.cumsum(np.sort(Data1))/ np.sum(Data1)\n",
    "#DataY2 = np.cumsum(np.sort(Data2))/np.sum(Data2)\n",
    "\n",
    "Datay1 = np.linspace(1/len(Data1), 1, len(Data1))\n",
    "Datay2 = np.linspace(1/len(Data2), 1, len(Data2))\n",
    "Datay3 = np.linspace(1/len(Data3), 1, len(Data3))\n",
    "\n",
    "F1 = interp1d(np.sort(Data1), Datay1, kind=\"previous\", bounds_error = False, fill_value = (0,1)) #interpolation for Data set 1\n",
    "F2 = interp1d(np.sort(Data2), Datay2, kind=\"previous\", bounds_error = False, fill_value = (0,1)) #interpolation for data set 2\n",
    "F3 = interp1d(np.sort(Data3), Datay3, kind=\"previous\", bounds_error = False, fill_value = (0,1))\n",
    "\n",
    "\n",
    "\n",
    "diffmax =0\n",
    "for deg in Data1+Data2:\n",
    "    diff = np.abs(F1(deg)-F2(deg))\n",
    "    diffmax= diff if diff > diffmax else diffmax\n",
    "    \n",
    "    \n",
    "print('KS Distance: %f' %diffmax) #i\n",
    "\n",
    "\n",
    "S = np.sqrt((len(Data1)*len(Data2)) / (len(Data1)+len(Data2))) #critical values (i.e big sqrt)\n",
    "\n",
    "\n",
    "P_KS = kolmogorov(diffmax*S) #here we dont use 1- F_k because kolmogorov from scipy gives the complementary cum dist \n",
    "print('P_KS: %f' %P_KS) #ii\n",
    "\n",
    "gamma = 0.1\n",
    "thetaD = np.linspace(0,180,180)\n",
    "thetaR = thetaD*(np.pi/180)\n",
    "#E = (gamma*np.sin(theta)+theta)*(180/np.pi) #integral of dist over theta\n",
    "def angular_cdf(theta, gamma): \n",
    "    return -0.5*(1.+gamma/2.)*(np.cos(theta) - 1.) \n",
    "\n",
    "def angular(theta, gamma):\n",
    "    return 1 + gamma*np.cos(theta)\n",
    "#calculating diff_max for expected vs data3=data1+data2\n",
    "KSD_A = 0\n",
    "for angle in Data3:\n",
    "    diff_A = np.abs(angular_cdf(angle, gamma) - F3(angle))\n",
    "    KSD_A = diff_A if diff_A > KSD_A else KSD_A\n",
    "\n",
    "    \n",
    "print('KS Distance for angular dist: %f' %KSD_A)\n",
    "\n",
    "S_A = np.sqrt((len(Data1)+len(Data2)))\n",
    "P_KS_A = kolmogorov(KSD_A*S_A) # 0.35456057524597623\n",
    "\n",
    "print('P_KS for angular dist: %f' %(P_KS_A))\n",
    "\n",
    "x = np.linspace(0,180,180)\n",
    "plt.plot(x, F1(x))\n",
    "plt.plot(x,F2(x))\n",
    "plt.plot(x, angular_cdf(thetaR,gamma))\n",
    "blue_patch = mpatches.Patch(color='blue', label='Data1')\n",
    "orange_patch = mpatches.Patch(color='orange', label='Data2')\n",
    "green_patch =  mpatches.Patch(color='green', label='CDF for Angular Dist')\n",
    "plt.legend(handles=[blue_patch, orange_patch, green_patch])\n",
    "plt.xlabel('Angles 0-180 deg')\n",
    "plt.ylabel('Probability')"
   ]
  },
  {
   "cell_type": "markdown",
   "metadata": {},
   "source": [
    "As we can see the two angle distributions (Data1 & Data2) out calculations indicate that they do indded originate from the same source as the P value is fairly high. The null hypothesis (H_0) is that the sample follows the distribution and we accept it. Interestingly the in built stats.ks_2samp gives a more accurate result but still similar. The test statistic is also less than the critical value up to a signifiance level of 0.001 which correlates our results. \n",
    "\n",
    "For the combined data set vs the expected distribution we find that the two samples were from populations with different distributions i.e originate from different sources and they are not compatible. \n",
    "\n",
    "Even though my results lead me to what I presume is the correct answer I believe my actual numbers for the P-Value and D-test statistic are off but I was unable to find out why. "
   ]
  },
  {
   "cell_type": "code",
   "execution_count": null,
   "metadata": {},
   "outputs": [],
   "source": []
  }
 ],
 "metadata": {
  "kernelspec": {
   "display_name": "Python 3",
   "language": "python",
   "name": "python3"
  },
  "language_info": {
   "codemirror_mode": {
    "name": "ipython",
    "version": 3
   },
   "file_extension": ".py",
   "mimetype": "text/x-python",
   "name": "python",
   "nbconvert_exporter": "python",
   "pygments_lexer": "ipython3",
   "version": "3.7.6"
  }
 },
 "nbformat": 4,
 "nbformat_minor": 4
}
