{
 "cells": [
  {
   "cell_type": "code",
   "execution_count": 16,
   "metadata": {},
   "outputs": [
    {
     "name": "stdout",
     "output_type": "stream",
     "text": [
      "1^2 = 1\n",
      "1^3 = 1\n",
      "1^4 = 1\n",
      "1^5 = 1\n",
      "1^6 = 1\n",
      "1^7 = 1\n",
      "1^8 = 1\n",
      "1^9 = 1\n",
      "2^2 = 4\n",
      "2^3 = 8\n",
      "2^4 = 16\n",
      "2^5 = 32\n",
      "2^6 = 64\n",
      "2^7 = 128\n",
      "2^8 = 256\n",
      "2^9 = 512\n",
      "3^2 = 9\n",
      "3^3 = 27\n",
      "3^4 = 81\n",
      "3^5 = 243\n",
      "3^6 = 729\n",
      "3^7 = 2187\n",
      "3^8 = 6561\n",
      "3^9 = 19683\n",
      "4^2 = 16\n",
      "4^3 = 64\n",
      "4^4 = 256\n",
      "4^5 = 1024\n",
      "4^6 = 4096\n",
      "4^7 = 16384\n",
      "4^8 = 65536\n",
      "4^9 = 262144\n",
      "5^2 = 25\n",
      "5^3 = 125\n",
      "5^4 = 625\n",
      "5^5 = 3125\n",
      "5^6 = 15625\n",
      "5^7 = 78125\n",
      "5^8 = 390625\n",
      "5^9 = 1953125\n",
      "6^2 = 36\n",
      "6^3 = 216\n",
      "6^4 = 1296\n",
      "6^5 = 7776\n",
      "6^6 = 46656\n",
      "6^7 = 279936\n",
      "6^8 = 1679616\n",
      "6^9 = 10077696\n",
      "7^2 = 49\n",
      "7^3 = 343\n",
      "7^4 = 2401\n",
      "7^5 = 16807\n",
      "7^6 = 117649\n",
      "7^7 = 823543\n",
      "7^8 = 5764801\n",
      "7^9 = 40353607\n",
      "8^2 = 64\n",
      "8^3 = 512\n",
      "8^4 = 4096\n",
      "8^5 = 32768\n",
      "8^6 = 262144\n",
      "8^7 = 2097152\n",
      "8^8 = 16777216\n",
      "8^9 = 134217728\n",
      "9^2 = 81\n",
      "9^3 = 729\n",
      "9^4 = 6561\n",
      "9^5 = 59049\n",
      "9^6 = 531441\n",
      "9^7 = 4782969\n",
      "9^8 = 43046721\n",
      "9^9 = 387420489\n"
     ]
    }
   ],
   "source": [
    "import numpy as np\n",
    "\n",
    "for a in range(1,10):\n",
    "    for b in range(2,10):\n",
    "        N = a**b\n",
    "        print('%d^%d = %d' %(a,b,N))"
   ]
  },
  {
   "cell_type": "code",
   "execution_count": 19,
   "metadata": {},
   "outputs": [
    {
     "name": "stdout",
     "output_type": "stream",
     "text": [
      "4^1 = 4\n",
      "4 mod 91 = 4\n",
      "4^2 = 16\n",
      "16 mod 91 = 16\n",
      "4^3 = 64\n",
      "64 mod 91 = 64\n",
      "4^4 = 256\n",
      "256 mod 91 = 74\n",
      "4^5 = 1024\n",
      "1024 mod 91 = 23\n",
      "4^6 = 4096\n",
      "4096 mod 91 = 1\n"
     ]
    }
   ],
   "source": [
    "for x in range(1,7):\n",
    "    print('4^%d = %d' %(x,4**x))\n",
    "    print('%d mod 91 = %d' %(4**x, 4**x % 91))"
   ]
  },
  {
   "cell_type": "code",
   "execution_count": 20,
   "metadata": {},
   "outputs": [
    {
     "name": "stdout",
     "output_type": "stream",
     "text": [
      "90\n"
     ]
    }
   ],
   "source": [
    "print(-1 % 91)"
   ]
  },
  {
   "cell_type": "code",
   "execution_count": null,
   "metadata": {},
   "outputs": [],
   "source": []
  }
 ],
 "metadata": {
  "kernelspec": {
   "display_name": "Python 3",
   "language": "python",
   "name": "python3"
  },
  "language_info": {
   "codemirror_mode": {
    "name": "ipython",
    "version": 3
   },
   "file_extension": ".py",
   "mimetype": "text/x-python",
   "name": "python",
   "nbconvert_exporter": "python",
   "pygments_lexer": "ipython3",
   "version": "3.7.6"
  }
 },
 "nbformat": 4,
 "nbformat_minor": 4
}
